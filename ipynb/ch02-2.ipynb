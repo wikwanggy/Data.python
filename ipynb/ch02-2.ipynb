{
 "cells": [
  {
   "cell_type": "markdown",
   "metadata": {},
   "source": [
    "# <Step 1> 크롤링 : 웹 데이터 가져오기"
   ]
  },
  {
   "cell_type": "markdown",
   "metadata": {},
   "source": [
    "### [BeautifulSoup을 이용해 웹 크롤링 하기]"
   ]
  },
  {
   "cell_type": "code",
   "execution_count": 4,
   "metadata": {},
   "outputs": [
    {
     "name": "stderr",
     "output_type": "stream",
     "text": [
      "C:\\Users\\GR\\AppData\\Local\\Temp\\ipykernel_11912\\421460542.py:25: DeprecationWarning: executable_path has been deprecated, please pass in a Service object\n",
      "  driver = webdriver.Chrome(ChromeDriverManager().install())  # for Windows\n"
     ]
    },
    {
     "name": "stdout",
     "output_type": "stream",
     "text": [
      "[<selenium.webdriver.remote.webelement.WebElement (session=\"0d163cde8f34a577badd01c5f20dbb09\", element=\"e3b3e27c-1a4b-42a5-984a-37798d8bab3a\")>, <selenium.webdriver.remote.webelement.WebElement (session=\"0d163cde8f34a577badd01c5f20dbb09\", element=\"7a7ff7d1-5641-4999-84ce-41c44f8cb36f\")>, <selenium.webdriver.remote.webelement.WebElement (session=\"0d163cde8f34a577badd01c5f20dbb09\", element=\"cffc4165-498c-4023-8e0d-8fde8aa1f7e6\")>, <selenium.webdriver.remote.webelement.WebElement (session=\"0d163cde8f34a577badd01c5f20dbb09\", element=\"b4b41cce-1878-4f1a-816a-c65979928cea\")>, <selenium.webdriver.remote.webelement.WebElement (session=\"0d163cde8f34a577badd01c5f20dbb09\", element=\"54b3fa9d-15b0-479f-8d3d-e3fa10166e9a\")>, <selenium.webdriver.remote.webelement.WebElement (session=\"0d163cde8f34a577badd01c5f20dbb09\", element=\"300e1809-114a-4c45-8e19-507504cca843\")>, <selenium.webdriver.remote.webelement.WebElement (session=\"0d163cde8f34a577badd01c5f20dbb09\", element=\"a2ebd101-07f1-47a7-9aa6-d382c1ffa715\")>, <selenium.webdriver.remote.webelement.WebElement (session=\"0d163cde8f34a577badd01c5f20dbb09\", element=\"7f4106d5-6f66-4e23-9529-f60cc34939eb\")>, <selenium.webdriver.remote.webelement.WebElement (session=\"0d163cde8f34a577badd01c5f20dbb09\", element=\"1fd6539a-8a48-4fbe-a64f-9852d4762629\")>, <selenium.webdriver.remote.webelement.WebElement (session=\"0d163cde8f34a577badd01c5f20dbb09\", element=\"7690ca65-b8df-4fd5-b82a-9bbf6805c8e6\")>, <selenium.webdriver.remote.webelement.WebElement (session=\"0d163cde8f34a577badd01c5f20dbb09\", element=\"7ab52b26-7a44-40cd-b527-400d1b21212f\")>, <selenium.webdriver.remote.webelement.WebElement (session=\"0d163cde8f34a577badd01c5f20dbb09\", element=\"bccc5c34-49a8-4569-a069-6c96ce0dda03\")>, <selenium.webdriver.remote.webelement.WebElement (session=\"0d163cde8f34a577badd01c5f20dbb09\", element=\"cd05fc4a-18a0-4c00-80c9-7f2857a91276\")>, <selenium.webdriver.remote.webelement.WebElement (session=\"0d163cde8f34a577badd01c5f20dbb09\", element=\"a69bef04-1bf1-4670-a39a-0d00a065d742\")>, <selenium.webdriver.remote.webelement.WebElement (session=\"0d163cde8f34a577badd01c5f20dbb09\", element=\"58af2fc2-b836-4189-93e6-b6c5adbf79b2\")>, <selenium.webdriver.remote.webelement.WebElement (session=\"0d163cde8f34a577badd01c5f20dbb09\", element=\"b9b90934-dc2a-4db8-baf2-3865426f4fc5\")>, <selenium.webdriver.remote.webelement.WebElement (session=\"0d163cde8f34a577badd01c5f20dbb09\", element=\"80909c8f-2764-417e-bdf0-9f54903096e8\")>, <selenium.webdriver.remote.webelement.WebElement (session=\"0d163cde8f34a577badd01c5f20dbb09\", element=\"f04a001c-9485-4559-b12c-8019fd23ef91\")>, <selenium.webdriver.remote.webelement.WebElement (session=\"0d163cde8f34a577badd01c5f20dbb09\", element=\"f06859b0-786f-481a-bb84-e7f83a89f5e9\")>, <selenium.webdriver.remote.webelement.WebElement (session=\"0d163cde8f34a577badd01c5f20dbb09\", element=\"0e4ec4f4-ab8d-448e-be70-81a5c5a05547\")>, <selenium.webdriver.remote.webelement.WebElement (session=\"0d163cde8f34a577badd01c5f20dbb09\", element=\"b740e597-b30f-4c7e-a66b-bc18f55fe797\")>, <selenium.webdriver.remote.webelement.WebElement (session=\"0d163cde8f34a577badd01c5f20dbb09\", element=\"fd487dbb-20d0-405a-bdfd-5199f8d093d5\")>, <selenium.webdriver.remote.webelement.WebElement (session=\"0d163cde8f34a577badd01c5f20dbb09\", element=\"d9f2afe7-7a63-4325-a71c-d9a3b4bcc978\")>, <selenium.webdriver.remote.webelement.WebElement (session=\"0d163cde8f34a577badd01c5f20dbb09\", element=\"c83f68fb-8bec-4d81-bfb4-64a4270a86b8\")>, <selenium.webdriver.remote.webelement.WebElement (session=\"0d163cde8f34a577badd01c5f20dbb09\", element=\"7aab5f66-7dbf-449c-b0bb-18503d52886f\")>, <selenium.webdriver.remote.webelement.WebElement (session=\"0d163cde8f34a577badd01c5f20dbb09\", element=\"7987f26f-0914-4e9b-8d57-37fd871e5ada\")>, <selenium.webdriver.remote.webelement.WebElement (session=\"0d163cde8f34a577badd01c5f20dbb09\", element=\"a584198f-699a-4c4c-bd53-270c42bdb6f9\")>, <selenium.webdriver.remote.webelement.WebElement (session=\"0d163cde8f34a577badd01c5f20dbb09\", element=\"d7e2e81d-791a-4dd1-bbfa-cd96ff7382a7\")>, <selenium.webdriver.remote.webelement.WebElement (session=\"0d163cde8f34a577badd01c5f20dbb09\", element=\"7affa34d-df3f-47ea-9725-46d43affd54f\")>, <selenium.webdriver.remote.webelement.WebElement (session=\"0d163cde8f34a577badd01c5f20dbb09\", element=\"eb84b69b-4d91-4828-9f84-899803ed33d3\")>, <selenium.webdriver.remote.webelement.WebElement (session=\"0d163cde8f34a577badd01c5f20dbb09\", element=\"3e0e1f2d-6e54-4777-a1ef-cb642264179b\")>, <selenium.webdriver.remote.webelement.WebElement (session=\"0d163cde8f34a577badd01c5f20dbb09\", element=\"7ddb9f12-b4e9-45fb-9c54-40e623b9792a\")>, <selenium.webdriver.remote.webelement.WebElement (session=\"0d163cde8f34a577badd01c5f20dbb09\", element=\"28961822-95d9-4cc3-8501-86fbd26b556a\")>, <selenium.webdriver.remote.webelement.WebElement (session=\"0d163cde8f34a577badd01c5f20dbb09\", element=\"846c7f39-8a3e-4f4e-8bd4-dc90488b7255\")>, <selenium.webdriver.remote.webelement.WebElement (session=\"0d163cde8f34a577badd01c5f20dbb09\", element=\"e5b3adc6-5fa2-4333-8e96-dc35610aad45\")>, <selenium.webdriver.remote.webelement.WebElement (session=\"0d163cde8f34a577badd01c5f20dbb09\", element=\"38d22ff1-b083-4924-8de8-873e990eaed2\")>, <selenium.webdriver.remote.webelement.WebElement (session=\"0d163cde8f34a577badd01c5f20dbb09\", element=\"cecbd9cc-53c3-4bc1-82d7-7730d8792cd9\")>, <selenium.webdriver.remote.webelement.WebElement (session=\"0d163cde8f34a577badd01c5f20dbb09\", element=\"232d56a4-5b10-4031-8469-ffcc0d73b296\")>, <selenium.webdriver.remote.webelement.WebElement (session=\"0d163cde8f34a577badd01c5f20dbb09\", element=\"aab42d29-901d-4104-8784-0719ff9fae22\")>, <selenium.webdriver.remote.webelement.WebElement (session=\"0d163cde8f34a577badd01c5f20dbb09\", element=\"751747f2-3eda-4f97-9a8a-02e77185ede1\")>, <selenium.webdriver.remote.webelement.WebElement (session=\"0d163cde8f34a577badd01c5f20dbb09\", element=\"0f724c49-044c-4325-9e4a-e727a62af2ea\")>, <selenium.webdriver.remote.webelement.WebElement (session=\"0d163cde8f34a577badd01c5f20dbb09\", element=\"c9a1ac98-fa5a-4465-bf27-4130b88b6b7f\")>, <selenium.webdriver.remote.webelement.WebElement (session=\"0d163cde8f34a577badd01c5f20dbb09\", element=\"c51bcf0f-8261-4eda-957f-a5a96c33507e\")>, <selenium.webdriver.remote.webelement.WebElement (session=\"0d163cde8f34a577badd01c5f20dbb09\", element=\"6cf0bcd7-3ff8-41b8-89d9-aa53bd759321\")>, <selenium.webdriver.remote.webelement.WebElement (session=\"0d163cde8f34a577badd01c5f20dbb09\", element=\"f39a77df-22bc-411d-905f-0629eead681f\")>, <selenium.webdriver.remote.webelement.WebElement (session=\"0d163cde8f34a577badd01c5f20dbb09\", element=\"843e3ecc-5ddc-495d-bded-fb9430fe721f\")>, <selenium.webdriver.remote.webelement.WebElement (session=\"0d163cde8f34a577badd01c5f20dbb09\", element=\"2256e638-fa62-4d6f-b4c1-dc89ac6a06c5\")>, <selenium.webdriver.remote.webelement.WebElement (session=\"0d163cde8f34a577badd01c5f20dbb09\", element=\"f0d6cb27-f18f-4d1f-9821-e36993230d0c\")>, <selenium.webdriver.remote.webelement.WebElement (session=\"0d163cde8f34a577badd01c5f20dbb09\", element=\"9779a462-b337-42fa-ab77-91cccb371f86\")>, <selenium.webdriver.remote.webelement.WebElement (session=\"0d163cde8f34a577badd01c5f20dbb09\", element=\"666d6a1b-8548-41e3-8452-1ede81ebd580\")>, <selenium.webdriver.remote.webelement.WebElement (session=\"0d163cde8f34a577badd01c5f20dbb09\", element=\"d57d6c7e-ba07-4ce6-8154-b72e6ca0c523\")>, <selenium.webdriver.remote.webelement.WebElement (session=\"0d163cde8f34a577badd01c5f20dbb09\", element=\"245a85d7-06a6-4dc5-9643-21a2d8b688f2\")>, <selenium.webdriver.remote.webelement.WebElement (session=\"0d163cde8f34a577badd01c5f20dbb09\", element=\"63624f00-7036-4257-8fdd-380b0d20affb\")>, <selenium.webdriver.remote.webelement.WebElement (session=\"0d163cde8f34a577badd01c5f20dbb09\", element=\"fa5fa8e2-85ab-42ef-a28c-afbb1dacad52\")>, <selenium.webdriver.remote.webelement.WebElement (session=\"0d163cde8f34a577badd01c5f20dbb09\", element=\"0d4f10c9-9082-46cb-a828-58e747bfbd32\")>, <selenium.webdriver.remote.webelement.WebElement (session=\"0d163cde8f34a577badd01c5f20dbb09\", element=\"9c591ed0-846b-4ff5-9778-320c20b666d4\")>, <selenium.webdriver.remote.webelement.WebElement (session=\"0d163cde8f34a577badd01c5f20dbb09\", element=\"583548bd-dba9-41cb-8541-dc5b52f64b11\")>, <selenium.webdriver.remote.webelement.WebElement (session=\"0d163cde8f34a577badd01c5f20dbb09\", element=\"1ae56377-f055-4a35-8374-26532b83d069\")>, <selenium.webdriver.remote.webelement.WebElement (session=\"0d163cde8f34a577badd01c5f20dbb09\", element=\"36b473e5-a06c-4451-8c9c-bf800bc1d86f\")>, <selenium.webdriver.remote.webelement.WebElement (session=\"0d163cde8f34a577badd01c5f20dbb09\", element=\"704f1e43-b424-4251-a302-cae329869887\")>, <selenium.webdriver.remote.webelement.WebElement (session=\"0d163cde8f34a577badd01c5f20dbb09\", element=\"58ba9dfb-d9b4-4001-855e-c7dd63c3ae0b\")>, <selenium.webdriver.remote.webelement.WebElement (session=\"0d163cde8f34a577badd01c5f20dbb09\", element=\"7d44b76e-2955-4161-98bd-08ffc984bf8b\")>, <selenium.webdriver.remote.webelement.WebElement (session=\"0d163cde8f34a577badd01c5f20dbb09\", element=\"64ab98a8-9b43-4ab0-b56e-0279483a4b3b\")>, <selenium.webdriver.remote.webelement.WebElement (session=\"0d163cde8f34a577badd01c5f20dbb09\", element=\"187aa45b-83ed-4e3b-be3a-99a07e45f71d\")>, <selenium.webdriver.remote.webelement.WebElement (session=\"0d163cde8f34a577badd01c5f20dbb09\", element=\"e4f5471f-52cf-49bc-9076-3bd5202c8140\")>, <selenium.webdriver.remote.webelement.WebElement (session=\"0d163cde8f34a577badd01c5f20dbb09\", element=\"d0d2ac69-485c-438e-ab71-1920bae9b39c\")>, <selenium.webdriver.remote.webelement.WebElement (session=\"0d163cde8f34a577badd01c5f20dbb09\", element=\"f209dc80-4272-4eed-bed2-a2388f6f5e5e\")>, <selenium.webdriver.remote.webelement.WebElement (session=\"0d163cde8f34a577badd01c5f20dbb09\", element=\"48895009-7158-47d6-bdfc-34ffffc00e2c\")>, <selenium.webdriver.remote.webelement.WebElement (session=\"0d163cde8f34a577badd01c5f20dbb09\", element=\"8eece5b9-6394-4852-9f71-0291b79204ab\")>, <selenium.webdriver.remote.webelement.WebElement (session=\"0d163cde8f34a577badd01c5f20dbb09\", element=\"69d343aa-edff-4725-a93f-edcb8927cbb7\")>, <selenium.webdriver.remote.webelement.WebElement (session=\"0d163cde8f34a577badd01c5f20dbb09\", element=\"fe69b295-def5-40f7-8eaa-97b8bc3fb059\")>, <selenium.webdriver.remote.webelement.WebElement (session=\"0d163cde8f34a577badd01c5f20dbb09\", element=\"18630ed4-5770-4220-9846-532764624481\")>, <selenium.webdriver.remote.webelement.WebElement (session=\"0d163cde8f34a577badd01c5f20dbb09\", element=\"52587fd9-0877-4c20-a986-39171f660d25\")>, <selenium.webdriver.remote.webelement.WebElement (session=\"0d163cde8f34a577badd01c5f20dbb09\", element=\"926ad24c-4cf5-4adb-9317-25ba8ac0a7a2\")>, <selenium.webdriver.remote.webelement.WebElement (session=\"0d163cde8f34a577badd01c5f20dbb09\", element=\"59c25679-4ac6-4472-bc6e-d3d327afdc2f\")>, <selenium.webdriver.remote.webelement.WebElement (session=\"0d163cde8f34a577badd01c5f20dbb09\", element=\"4a3417c7-dde9-4afb-bb27-2a81c388f604\")>, <selenium.webdriver.remote.webelement.WebElement (session=\"0d163cde8f34a577badd01c5f20dbb09\", element=\"e015e32b-8265-4c2a-9466-29dd3d415a83\")>, <selenium.webdriver.remote.webelement.WebElement (session=\"0d163cde8f34a577badd01c5f20dbb09\", element=\"dba0cb74-de69-454e-a4a9-6ef3ca209706\")>, <selenium.webdriver.remote.webelement.WebElement (session=\"0d163cde8f34a577badd01c5f20dbb09\", element=\"4d5a8bc8-3efb-4375-b0dd-512de9fafc75\")>, <selenium.webdriver.remote.webelement.WebElement (session=\"0d163cde8f34a577badd01c5f20dbb09\", element=\"a0ce4d21-699f-465d-94d4-ed49bdc4c7e0\")>, <selenium.webdriver.remote.webelement.WebElement (session=\"0d163cde8f34a577badd01c5f20dbb09\", element=\"e8a59177-0df5-4d2d-9532-72ae53ad1621\")>, <selenium.webdriver.remote.webelement.WebElement (session=\"0d163cde8f34a577badd01c5f20dbb09\", element=\"403fa2fa-9b66-4dc0-86f7-efe841622757\")>, <selenium.webdriver.remote.webelement.WebElement (session=\"0d163cde8f34a577badd01c5f20dbb09\", element=\"11cf63fa-1698-434a-97db-7b07815ea765\")>, <selenium.webdriver.remote.webelement.WebElement (session=\"0d163cde8f34a577badd01c5f20dbb09\", element=\"5e0313f4-c65f-4c60-b712-dc81adc5a28b\")>, <selenium.webdriver.remote.webelement.WebElement (session=\"0d163cde8f34a577badd01c5f20dbb09\", element=\"7ab49759-4037-4534-b5b8-074b78cfd394\")>, <selenium.webdriver.remote.webelement.WebElement (session=\"0d163cde8f34a577badd01c5f20dbb09\", element=\"fbe51e64-f4dd-419c-8a37-43f23935b9ae\")>, <selenium.webdriver.remote.webelement.WebElement (session=\"0d163cde8f34a577badd01c5f20dbb09\", element=\"20fd4ba2-8383-4a71-a3cc-7edc76ff2e4a\")>, <selenium.webdriver.remote.webelement.WebElement (session=\"0d163cde8f34a577badd01c5f20dbb09\", element=\"27981459-604e-4e09-a8d8-1e71975f912c\")>, <selenium.webdriver.remote.webelement.WebElement (session=\"0d163cde8f34a577badd01c5f20dbb09\", element=\"87d4530a-6267-46d9-accf-823c1bd0fec3\")>, <selenium.webdriver.remote.webelement.WebElement (session=\"0d163cde8f34a577badd01c5f20dbb09\", element=\"e0ccbf67-5d68-4a1e-9722-134b21beb4f1\")>, <selenium.webdriver.remote.webelement.WebElement (session=\"0d163cde8f34a577badd01c5f20dbb09\", element=\"613a156a-d08b-48cc-b4fd-af4dfb204b09\")>, <selenium.webdriver.remote.webelement.WebElement (session=\"0d163cde8f34a577badd01c5f20dbb09\", element=\"556b5299-8132-4db7-ba67-bbdd0551d8d8\")>, <selenium.webdriver.remote.webelement.WebElement (session=\"0d163cde8f34a577badd01c5f20dbb09\", element=\"4d6e2b84-c8ef-4008-9b80-e948adc8614c\")>, <selenium.webdriver.remote.webelement.WebElement (session=\"0d163cde8f34a577badd01c5f20dbb09\", element=\"ddb72b79-c65c-427d-8aa8-bd42c83cf1c8\")>, <selenium.webdriver.remote.webelement.WebElement (session=\"0d163cde8f34a577badd01c5f20dbb09\", element=\"16eaf538-e2ac-408e-a90f-5ae7a86bcf92\")>, <selenium.webdriver.remote.webelement.WebElement (session=\"0d163cde8f34a577badd01c5f20dbb09\", element=\"48c7afa6-5fe1-4485-9005-3fce055d2e28\")>, <selenium.webdriver.remote.webelement.WebElement (session=\"0d163cde8f34a577badd01c5f20dbb09\", element=\"96a95d13-cefd-4ae7-9575-780366abd2fc\")>, <selenium.webdriver.remote.webelement.WebElement (session=\"0d163cde8f34a577badd01c5f20dbb09\", element=\"80a01afe-d2c9-4ff8-9edd-eba974fa49b2\")>, <selenium.webdriver.remote.webelement.WebElement (session=\"0d163cde8f34a577badd01c5f20dbb09\", element=\"20b0a0cd-6b16-42bd-b898-c7538bd7d702\")>, <selenium.webdriver.remote.webelement.WebElement (session=\"0d163cde8f34a577badd01c5f20dbb09\", element=\"42d47482-961d-48da-8e55-891651b7e048\")>, <selenium.webdriver.remote.webelement.WebElement (session=\"0d163cde8f34a577badd01c5f20dbb09\", element=\"5e0903ad-10a8-42ea-8ec9-269f28ebb97c\")>, <selenium.webdriver.remote.webelement.WebElement (session=\"0d163cde8f34a577badd01c5f20dbb09\", element=\"662d39d3-8a9e-4b11-80c5-954ae53e8892\")>, <selenium.webdriver.remote.webelement.WebElement (session=\"0d163cde8f34a577badd01c5f20dbb09\", element=\"ec5db9c5-df7b-4b2e-a106-ffb403dcdd9d\")>, <selenium.webdriver.remote.webelement.WebElement (session=\"0d163cde8f34a577badd01c5f20dbb09\", element=\"b7912e09-7085-4ebc-9b55-a477f3edac19\")>, <selenium.webdriver.remote.webelement.WebElement (session=\"0d163cde8f34a577badd01c5f20dbb09\", element=\"d65e155d-83c6-4ecf-b18b-dc963484d619\")>, <selenium.webdriver.remote.webelement.WebElement (session=\"0d163cde8f34a577badd01c5f20dbb09\", element=\"7ac2df15-b5aa-47b3-a66f-78fd72645d4a\")>, <selenium.webdriver.remote.webelement.WebElement (session=\"0d163cde8f34a577badd01c5f20dbb09\", element=\"5c923711-d7bd-45f5-b988-8d6dc300e16f\")>, <selenium.webdriver.remote.webelement.WebElement (session=\"0d163cde8f34a577badd01c5f20dbb09\", element=\"61b6c76c-f36e-4ad8-bd6b-5e9ad5bf5844\")>, <selenium.webdriver.remote.webelement.WebElement (session=\"0d163cde8f34a577badd01c5f20dbb09\", element=\"882a9018-2841-413a-a926-5e8a32b4d9a9\")>, <selenium.webdriver.remote.webelement.WebElement (session=\"0d163cde8f34a577badd01c5f20dbb09\", element=\"31d5b608-186f-4e9b-8fc3-ee92d830d321\")>, <selenium.webdriver.remote.webelement.WebElement (session=\"0d163cde8f34a577badd01c5f20dbb09\", element=\"012a96b3-dd70-44de-9c63-889355767343\")>, <selenium.webdriver.remote.webelement.WebElement (session=\"0d163cde8f34a577badd01c5f20dbb09\", element=\"1100cfc1-eea9-462e-a69b-b3e2162becaf\")>, <selenium.webdriver.remote.webelement.WebElement (session=\"0d163cde8f34a577badd01c5f20dbb09\", element=\"929ef53a-e191-4cfd-9de5-4524ff3e22bd\")>]\n",
      "https://namu.wiki/w/%ED%8C%8C%EC%9D%BC:United_Nations_Interim_Administration_Mission_in_Kosovo_Logo.svg\n",
      "https://namu.wiki/w/%ED%8C%8C%EC%9D%BC:UNMIK%20%EB%A1%9C%EA%B3%A0.svg\n",
      "https://namu.wiki/w/%EC%A0%9C%EB%84%A4%EC%8B%9C%EC%8A%A4%20G70\n",
      "['https://namu.wiki/w/%ED%8C%8C%EC%9D%BC:United_Nations_Interim_Administration_Mission_in_Kosovo_Logo.svg', 'https://namu.wiki/w/%EC%A0%9C%EB%84%A4%EC%8B%9C%EC%8A%A4%20G70', 'https://namu.wiki/w/%ED%8C%8C%EC%9D%BC:UNMIK%20%EB%A1%9C%EA%B3%A0.svg']\n"
     ]
    }
   ],
   "source": [
    "# pip install selenium beautifulsoup4 로 라이브러리 설치\n",
    "# pip install webdriver_manager로 라이브러리 설치\n",
    "from selenium import webdriver\n",
    "from webdriver_manager.chrome import ChromeDriverManager\n",
    "from selenium.webdriver.common.by import By\n",
    "from bs4 import BeautifulSoup\n",
    "import pandas as pd\n",
    "import re\n",
    "# pip uninstall konlpy==0.5.1 jpype1==0.6.3 Jpype1-py3\n",
    "# pip install konlpy==0.5.1 jpype1==0.6.3 Jpype1-py3\n",
    "#pip install konlpy==0.5.1\n",
    "# pip install jpype==0.6.3\n",
    "# pip install Jpype1-py3\n",
    "from konlpy.tag import Okt\n",
    "from collections import Counter\n",
    "\n",
    "\n",
    "# 크롤링할 사이트 주소를 정의합니다.\n",
    "source_url = \"https://namu.wiki/RecentChanges\"\n",
    "\n",
    "#options = webdriver.ChromeOptions()\n",
    "#options.add_experimental_option(\"excludeSwitches\", [\"enable-logging\"])\n",
    "# 사이트의 html 구조에 기반하여 크롤링을 수행합니다.\n",
    "#driver = webdriver.Chrome(ChromeDriverManager().install(), options=options)  # for Windows\n",
    "driver = webdriver.Chrome(ChromeDriverManager().install())  # for Windows\n",
    "driver.get(source_url)\n",
    "driver.implicitly_wait(10)\n",
    "#table_rows = driver.find_elements(By.XPATH,'//*[@id=\"C6Rc9QlVe\"]/div[2]/div/div/div/div/div/article/div[3]/div/div/div/div[1]/div/div/table/tbody/tr/td/a')\n",
    "table_rows = driver.find_elements(By.XPATH,'//*[@id=\"C6Rc9QlVe\"]/div[2]/div/div/div/div/div/article/div[3]/div/div/div/div[1]/div/div/table/tbody/tr')\n",
    "print(table_rows)\n",
    "page_urls = []\n",
    "\n",
    "#for i in range(0,len(table_rows)): # 시간이 너무 오래 걸림\n",
    "for i in range(0,5):    # 어차피 맨 밑에 상위 다섯번째까지만 출력하면 되니 5번만 반복.\n",
    "    first_td=table_rows[i].find_elements(By.TAG_NAME,\"td\")\n",
    "    td_url=first_td[0].find_elements(By.TAG_NAME,\"a\")\n",
    "    if len(td_url) >0 :\n",
    "        page_url=td_url[0].get_attribute(\"href\")\n",
    "        #page_url=table_rows[0].get_attribute(\"href\")   # a태그의 href 속성을 리스트로 추출하여, 크롤링 할 페이지 리스트를 생성합니다.\n",
    "        print(page_url)\n",
    "        if 'png' not in page_urls:\n",
    "            page_urls.append(page_url)\n",
    "\n",
    "# 중복 url을 제거합니다.\n",
    "page_urls = list(set(page_urls))\n",
    "print(page_urls)\n",
    "#for page in page_urls[:3]:\n",
    "#    print(page)\n",
    "\n",
    "\n",
    "\n"
   ]
  },
  {
   "cell_type": "markdown",
   "metadata": {},
   "source": [
    "### [나무위키의 최근 변경 데이터 크롤링하기]"
   ]
  },
  {
   "cell_type": "code",
   "execution_count": 5,
   "metadata": {},
   "outputs": [
    {
     "name": "stderr",
     "output_type": "stream",
     "text": [
      "C:\\Users\\GR\\AppData\\Local\\Temp\\ipykernel_11912\\2721062881.py:5: DeprecationWarning: executable_path has been deprecated, please pass in a Service object\n",
      "  driver = webdriver.Chrome(ChromeDriverManager().install())\n",
      "C:\\Users\\GR\\AppData\\Local\\Temp\\ipykernel_11912\\2721062881.py:42: FutureWarning: The frame.append method is deprecated and will be removed from pandas in a future version. Use pandas.concat instead.\n",
      "  df=df.append(series, ignore_index=True)\n"
     ]
    },
    {
     "data": {
      "text/html": [
       "<div>\n",
       "<style scoped>\n",
       "    .dataframe tbody tr th:only-of-type {\n",
       "        vertical-align: middle;\n",
       "    }\n",
       "\n",
       "    .dataframe tbody tr th {\n",
       "        vertical-align: top;\n",
       "    }\n",
       "\n",
       "    .dataframe thead th {\n",
       "        text-align: right;\n",
       "    }\n",
       "</style>\n",
       "<table border=\"1\" class=\"dataframe\">\n",
       "  <thead>\n",
       "    <tr style=\"text-align: right;\">\n",
       "      <th></th>\n",
       "      <th>title</th>\n",
       "      <th>category</th>\n",
       "      <th>content_text</th>\n",
       "    </tr>\n",
       "  </thead>\n",
       "  <tbody>\n",
       "    <tr>\n",
       "      <th>0</th>\n",
       "      <td>파일:United_Nations_Interim_Administration_Missi...</td>\n",
       "      <td>파일/로고</td>\n",
       "      <td>출처https://en.wikipedia.org/wiki/File:United_Na...</td>\n",
       "    </tr>\n",
       "    <tr>\n",
       "      <th>1</th>\n",
       "      <td>제네시스 G70</td>\n",
       "      <td>제네시스/생산차량2017년 출시중형차스포츠 세단디지털 키/탑재차량</td>\n",
       "      <td>2017년 9월 15일에 공개된 제네시스의 중형 스포츠 세단.근본부터 독창적인. 우...</td>\n",
       "    </tr>\n",
       "    <tr>\n",
       "      <th>2</th>\n",
       "      <td>파일:UNMIK 로고.svg</td>\n",
       "      <td>파일/로고</td>\n",
       "      <td>출처출처를 반드시 삽입해 주세요.날짜이미지가 만들어진 날짜를 삽입해 주세요.저작자이...</td>\n",
       "    </tr>\n",
       "  </tbody>\n",
       "</table>\n",
       "</div>"
      ],
      "text/plain": [
       "                                               title  \\\n",
       "0  파일:United_Nations_Interim_Administration_Missi...   \n",
       "1                                          제네시스 G70    \n",
       "2                                   파일:UNMIK 로고.svg    \n",
       "\n",
       "                               category  \\\n",
       "0                                 파일/로고   \n",
       "1  제네시스/생산차량2017년 출시중형차스포츠 세단디지털 키/탑재차량   \n",
       "2                                 파일/로고   \n",
       "\n",
       "                                        content_text  \n",
       "0  출처https://en.wikipedia.org/wiki/File:United_Na...  \n",
       "1  2017년 9월 15일에 공개된 제네시스의 중형 스포츠 세단.근본부터 독창적인. 우...  \n",
       "2  출처출처를 반드시 삽입해 주세요.날짜이미지가 만들어진 날짜를 삽입해 주세요.저작자이...  "
      ]
     },
     "execution_count": 5,
     "metadata": {},
     "output_type": "execute_result"
    }
   ],
   "source": [
    "\n",
    "columns = ['title','category','content_text']\n",
    "df=pd.DataFrame(columns=columns)\n",
    "\n",
    "for page_url in page_urls:\n",
    "    driver = webdriver.Chrome(ChromeDriverManager().install())\n",
    "    driver.implicitly_wait(10)\n",
    "    driver.get(page_url)\n",
    "    req=driver.page_source\n",
    "    soup=BeautifulSoup(req,\"html.parser\")\n",
    "    contents_table=soup.find(attrs={\"class\":\"SVuqC-pU\"})\n",
    "    title=contents_table.find_all(\"h1\")[0]\n",
    "\n",
    "    if len(contents_table.find_all(\"ul\"))>0:\n",
    "        category=contents_table.find_all(\"ul\")[0]\n",
    "    else:\n",
    "        category=None\n",
    "\n",
    "    content_paragraphs=contents_table.find_all(name=\"div\", attrs={\"class\":\"UtCm7-qJ\"})\n",
    "    content_corpus_list=[]\n",
    "\n",
    "    if title is not None:\n",
    "        row_title=title.text.replace(\"\\n\",\" \")\n",
    "    else:\n",
    "        row_title=\"\"\n",
    "    \n",
    "    if content_paragraphs is not None:\n",
    "        for paragraghs in content_paragraphs:\n",
    "            if paragraghs is not None:\n",
    "                content_corpus_list.append(paragraghs.text.replace(\"\\n\",\" \"))\n",
    "            else:\n",
    "                content_corpus_list.append(\"\")\n",
    "    else:\n",
    "        content_corpus_list(\"\")\n",
    "\n",
    "    if category is not None:\n",
    "        row_category=category.text.replace(\"\\n\",\" \")\n",
    "    else:\n",
    "        row_category=\"\"\n",
    "\n",
    "    row=[row_title,row_category,\"\".join(content_corpus_list)]\n",
    "    series=pd.Series(row, index=df.columns)\n",
    "    df=df.append(series, ignore_index=True)\n",
    "\n",
    "\n",
    "\n",
    "\n",
    "    driver.close()\n",
    "df.head(5)"
   ]
  },
  {
   "cell_type": "markdown",
   "metadata": {},
   "source": [
    "### [텍스트 데이터 전처리 하기]"
   ]
  },
  {
   "cell_type": "code",
   "execution_count": 8,
   "metadata": {},
   "outputs": [
    {
     "name": "stdout",
     "output_type": "stream",
     "text": [
      "출처날짜이미지가 만들어진 날짜를 삽입해 주세요저작자이미지의 저작자를 삽입해 주세요저작권이미지의 저작권과 관련된 기타 정보를 삽입해 주세요기타기타 정보가 있으면 삽입해 주세요이미지의 자세한 설명을 적어 주세요\n"
     ]
    }
   ],
   "source": [
    "def text_cleaning(text):\n",
    "    hangul = re.compile('[^ ㄱ-ㅣ가-힣]+') # 한글의 정규표현식을 나타냅니다.\n",
    "    result = hangul.sub('', text)\n",
    "    return result\n",
    "\n",
    "print(text_cleaning(df[\"content_text\"][0]))"
   ]
  },
  {
   "cell_type": "markdown",
   "metadata": {},
   "source": [
    "### [모든 데이터 전처리 적용하기]"
   ]
  },
  {
   "cell_type": "code",
   "execution_count": 9,
   "metadata": {},
   "outputs": [
    {
     "name": "stdout",
     "output_type": "stream",
     "text": [
      "    title                        category  \\\n",
      "0     파일                             파일로고   \n",
      "1  제네시스    제네시스생산차량년 출시중형차스포츠 세단디지털 키탑재차량   \n",
      "2  파일 로고                             파일로고   \n",
      "\n",
      "                                        content_text  \n",
      "0  출처날짜이미지가 만들어진 날짜를 삽입해 주세요저작자이미지의 저작자를 삽입해 주세요저...  \n",
      "1  년 월 일에 공개된 제네시스의 중형 스포츠 세단근본부터 독창적인 우리만의 방식으로주...  \n",
      "2  출처출처를 반드시 삽입해 주세요날짜이미지가 만들어진 날짜를 삽입해 주세요저작자이미지...  \n"
     ]
    }
   ],
   "source": [
    "df[\"title\"]=df[\"title\"].apply(lambda x:text_cleaning(x))\n",
    "df[\"category\"]=df[\"category\"].apply(lambda x:text_cleaning(x))\n",
    "df[\"content_text\"]=df[\"content_text\"].apply(lambda x:text_cleaning(x))\n",
    "\n",
    "print(df.head(5))\n"
   ]
  },
  {
   "cell_type": "markdown",
   "metadata": {},
   "source": [
    "### [말뭉치 만들기] "
   ]
  },
  {
   "cell_type": "code",
   "execution_count": 10,
   "metadata": {},
   "outputs": [
    {
     "name": "stdout",
     "output_type": "stream",
     "text": [
      "파일 제네시스  파일 로고 \n",
      "파일로고제네시스생산차량년 출시중형차스포츠 세단디지털 키탑재차량파일로고\n",
      "출처날짜이미지가 만들어진 날짜를 삽입해 주세요저작자이미지의 저작자를 삽입해 주세요저작권이미지의 저작권과 관련된 기타 정보를 삽입해 주세요기타기타 정보가 있으면 삽입해 주세요이미지의 자세한 설명을 적어 주세요년 월 일에 공개된 제네시스의 중형 스포츠 세단근본부터 독창적인 우리만의 방식으로주요 엔진 라인업으로는  싱글터보 가솔린  트윈터보 가솔린  디젤이며 파워트레인은 후륜용 단 자동변속기가 들어갔다루머와 달리 제네시스 뉴욕 컨셉은 도 반영되지 않을 예정이다 현대차 내부에서는 의 양산단계 직전까지 뉴욕컨셉의 존재조차 몰랐다고 한다 뉴욕컨셉이 발표되었을 때는 이미 의 최종 디자인 프로세스까지 다 끝난 단계였으며 제네시스 뉴욕 컨셉은 미국 스튜디오의 단독 컨셉 모델이다 때문에 시간상의 문제도 그렇고  양산차는 뉴욕컨셉과 전혀 관계없이 진행됐다 이미 공개된 실루엣만 봐도 알듯이 형상 자체가 다르다 오히려   컨셉의 앞모습과 매우 비슷하다스팅어의 플랫폼을 공유하는 은 스팅어보다 비싸지만 차체 크기는 작다 또 가격대가 스팅어보다 높은 만큼 알루미늄 소재의 사용 비율을 높인다는 루머가 있었으나 스팅어와 큰 차이가 없는 것으로 드러났다년 월 일부터 일까지 선착순으로 프라이빗 쇼룸 이벤트를 신청하여 관람이 가능했는데 서울 부산 대구 인천 등 전국에서 진행되었으며 서울의 경우 강남구 언주로에 위치한 현대모터스튜디오에서 관람이 가능했다년 기준으로 기본 트림 가격대는 만 원으로 스팅어보다 트림당 약 만원에서 만원 가량 더 비싸다 또한 배기량 과  트림의 구성품과 선택 가능한 옵션에 차이를 뒀던 스팅어와 달리 은 옵션 선택폭이 넓으며 엔진 별 구성품 차별도 적다다만 스팅어에 있는 전동식 파워 트렁크 시스템 컷 스티어링 휠이 배제되고 전자 제어 서스펜션이 상급 스포츠  터보 트림에만 채택된 것은 단점으로 꼽힌다초기에 차동 기어 장치와 전자식 서스펜션이 전 트림에 들어간다는 루머가 있어 기대가 확산되었으나 둘 다 스포츠성을 지향하는 고급 트림에서만 채택된 옵션이다 물론  모델에서는 가 빠졌다 하지만 연식이 변경되면서 와 전자식 서스펜션을 추가하는 추세다 초기 발매 시에는 에서만 기본 장착 에서는  삭제 이후 에 스포츠 패키지라는 이름으로 동일하게 제공 년형으로 연식변경 하면서 에도 가 추가되었다한편 프리미엄을 표방하면서 원터치 윈도우를 열운전석 및 조수석에만 장착했고 파워 트렁크 기능이 없어 빈축을 사기도 했다 파워 트렁크 기능은 동급의 독일 프리미엄 브랜드 차들에도 없으므로 사실 큰 문제가 되지 않으나 원터치 윈도우는 그렇지 않다 프리미엄 브랜드라면 모든 윈도우를 원터치로 조작할 수 있도록 하는 것이 기본이다 시리즈의 깡통트림 시리즈의 최하 트림에도 원터치 윈도우는 모든 윈도우에 적용된다 게다가 년 등장한 현대 브랜드의 싼타페 조차도 모든 윈도우를 원터치로 조작할 수 있다 심지어 조차도 상급 트림에서는 모든 윈도우에 원터치 조작을 적용할 수 있다 년형으로 연식변경 하면서 파워 트렁크 기능을 추가했다년 월 일 의 외관 실루엣이 공개되었다 월 일부터 일부 고객들을 위해 유료 표가 필요한 프라이빗 쇼케이스를 열었다예정대로 월 일 정오경 이 완전 공개되었다그리고 제네시스에 의하면  리터 가솔린 트윈터보의 제로백이 초라고 한다 이는 스팅어  리터 가솔린 트윈터보에 비해 초 더 빠르며 는 제로백 초를 찍는다고 한다 다만 이것은 현대자동차에서 발행한 공식적인 문헌 자료에서 언급된 것은 아니고 미디어데이 행사 때 기자와의 질답에서 나온 말이다 브로셔와 가격표에 제로백을 아예 명시한 스팅어와는 대조되는 면미국잡지   의 월 일 기사에 따르면 장기 테스트 약 만 천 킬로미터 주행 후 테스트에 의하면 제로백이 초로 출고당시 테스트에 비해 초 단축 되었다 아마도 길들이기나 날씨 등 주변환경에 영향을 많이 받는 듯 하다 전장 로 현행 시리즈보다  짧고 클래스보다  짧다 대놓고 노린 셈서스펜션 형식 타이어 종류 브레이크 구성은 형제차인 스팅어와 똑같다 전륜 듀얼링크 맥퍼슨 스트럿 후륜 더블 위시본 기반 링크 멀티링크 서스펜션이 사용되었다  인치는 계절용인 브리지스톤 포텐자 가   사이즈로 적용되었고 인치에는 여름용 인 미쉐린 파일럿 스포츠 가 전륜  후륜  사이즈로 적용되었으며 스팅어와 똑같은 브렘보 대향 피스톤 캘리퍼가 옵션으로 적용되는데 스팅어와 달리 빨간색 은색 도장 중에 선택할 수 있다파격에 가까웠던 스팅어에 비하면 상당히 점잖고 타협적인 디자인이라 최대한 다수의 취향에 맞춘 디자인이라는 평과 너무 무난한 것 아니냐는 평이 공존하고 있다 그래도 대체로는 이 정도면 잘 나왔다는 평 헤드램프의 특징적인 두줄짜리  주간주행등은 아반떼 스포츠를 닮았다는 평이 있는데 물론 디자인이라는 건 매우 작은 요소 하나에 의해서도 크게 달라지기 때문에 실물이 좀 더 풀려봐야 제대로 알 수 있을 것이다 반면 측면이나 후면 디자인에 대해서는 거의 부정적인 평이 없다 다만 측후면 디자인은 실루엣은 시리즈 후미등은 시리즈를 강하게 의식한 듯하다는 평은 여러 기자들의 입에서 나왔다을 구입하려는 소비자중 가성비를 생각해서 그랜저나 과 고민하는 소비자들이 꽤 있다 성향이 완전히 다른 차라 본인이 원하는 바를 면밀히 생각해보고 결정해야 할 것이다스팅어 디젤은 유로 규제를  방식으로 대응한 것과 달리  디젤은 처음부터  방식으로 대응했으며 한층 강화된 유로 규제까지도 미리 대응한 것으로 보인다기자들에게 대체로 호평받는 부분들을 살펴 보자면소재의 고급스러움 실내에서는 가죽과 메탈로 덮이지 않은 부분이 더 적은 수준이다최고급의 옵션과 편의장비 그리고 상당히 개념찬 트림 구성 대표적으로 전 트림에서  선택 가능한 점 등일단은 크게 흠 잡을 데 없는 내외부 디자인 한정으로 마력과 토크로 대표되는 수치상의 스펙은 기아 스팅어 와 함께 국산차 중 최고의 성능을 자랑한다좋은 가성비 최상위 트림인  스포츠 프레스티지  기준 만 원 물론 옵션을 얼마나 추가하냐에 따라서 가격 차이가 많이 날 수 있다 흔히 말하는 풀옵션의 경우 만 원이 된다 순전히 트랙용 장난감으로 굴리려고  깡통 후륜에 브렘보 브레이크만 넣는 오너도 있다 이 경우 값은 만 원 완전 깡통 모델일 경우 만원 후반대로도 구입할 수 있다 현재 한국에 시판되는 수입차 중 성능상  와 비슷한  트윈터보 엔진의 벤츠  가 만 원대  싱글터보 엔진의  가 만 원대를 넘어가므로  보다 비싸다반면 단점으로 지적받는 부분좁은 뒷좌석 차체 크기는 아반떼보다 약간 큰 정도이지만 후륜구동 기반의 차량이다 보니 전륜구동인 아반떼보다 좁다스포츠 모드와 컴포트 모드의 차이가 독일 사 차량보다는 적은 점 스포츠 모드를 조금 더 과감하게 세팅해도 좋았을 것이라고너무 소프트한 국내판의 서스펜션 국내에서 판매하는 순정 은 모터트렌드에서 극찬한 미국 수출 모델과는 다른 승차감과 코너링 특성을 보인다 인위적인 엔진배기음상품성이 떨어지는  차량 모터트랜드에서 클에 비교해서 제로백 등 모든 수치가 느림을 지적했다라인업 채우기용으로 넣은 듯한  디젤 엔진 가솔린 모델보다 소모품교환과 홈투홈서비스 제공 횟수가 적다 차라리 를 사고 차익을 유류비에 넣는 것을 권한다실내가 매우 좁다 차급을 고려해도 납득이 안 갈 정도로 좁다  스팅어보다 좁은 건 당연하고 아반떼 보다도 좁다 현행  시리즈와 벤츠 클래스 아우디 가 이전 모델보다 넓어져 더 부각되는 부분 발을 놓는 위치도 문제이다 뒷좌석 공간을 살펴보면 공간 자체도 좁은데다 쿠션이 길어서 다리 공간은 훨씬 더 좁아 보인다 그런데 이 급의 다른 차들은 뒷좌석에 앉았을 때 발을 앞좌석 아래로 넣을 수 있는 데에 비해 은 앞좌석을 일정 수준 이상으로 높이지 않으면 발을 넣을 수 없도록 만들어져 있기 때문에 특히 불편하다 낮은 시트 포지션을 어필하다보니 시트 올려서 태우세요 같은 신소리는 할 수도 없는 상황높이도 문제다 앞좌석은 아슬아슬하게 여유 있는데 비해  뒷좌석은 여지없다  이 정도 높이는 소형차 수준이다의 뒷좌석에 대한 얘기로는 이 처음 개발될 당시 주 벤치마킹 대상이  시리즈였는데 개발 기간이 길어지는 동안 에서 로 풀체인지 되면서 의 실내가  시리즈보다 상대적으로 좁게 된 게 아니냐는 가설이 있기도 하다 심지어 으로 풀체인지된 년 현재 차이가 더 벌어졌다 미디어오토 장진택 기자가 밝힌 현대차 연구원발 이야기로는 차량의 스포츠성을 강화하기 위해 앞좌석 시트를 더욱 낮추게 되었고 의자를 낮추다 보니 앞좌석 의자가 뒤로 밀려나 실내공간이 좁아지게 되었다고 한다상대적으로 좁은 의 뒷좌석은 실제로 동호회나 자동차 커뮤니티들에서 이 까이는 주된 이유가 되기도 한다 여기에는 한국만의 독특한 차급 문화 뒷좌석을 위시한 차체 크기 자체배기량도 포함로 차의 등급을 평가하는 풍조 광범위한 소비자들에게 각인되어 있는 가격 인식 등이 복합적으로 작용한 것이다 물론 이러한 문화는 세계적으로 볼 때 보편적인 것은 아니다 이러한 상황에서 의 상품 가치가 대한민국 자동차 시장 구성원들의 전통적인 인식을 넘어설 수 있다고 주장하는 사람들이 있지만 대한민국의 연간 자동차 판매 지형만 봐도 그런 주장은 사실이 아님을 알 수 있다 이러한 자동차 시장 지형을 잘 아는 현대자동차 역시 확신이 없었던 모양인지 의 판매 목표를 상당히 보수적으로 설정하고 고급 세단이라는 점과 고유의 스포츠성을 동시에 내세우며 고소득이며 젊은 수요층을 공략하고 있다 실제로 현대의 이러한 공략이 적중했는지 출시 직후 천 대가 넘는 주문이 몰려 년 월 기준은 물론 년 월에도 신차를 배정받으려면 최소 수 일에서 최대 한 달 가량 기다려야 했다역으로 그닥 많지 않은 현대기아에 우호적인 성향을 보이는 커뮤니티에서는 그동안 공간적 우위성을 중시했던 만큼 이 차의 스펙이 썩 달갑지 않게 다가온 셈인데 소위 독사 엔트리에 대한 반감으로 시리즈나 클래스 등을 만원이 넘는 차가 만원대 아반떼보다도 좁다는 이유로 가성비가 떨어진다고 비난했으나 비슷한 크기와 가격으로 고스란히 현대자동차그룹에서 나온 셈이기 때문 이 때문에 손바닥 뒤집듯이 공간이 전부가 아니다라는 소리를 하기가 영 불편해져 버렸다 다만 스펙 대비 가성비가 매우 뛰어나므로  칭송은 그 쪽으로 몰리는 편이며 스팅어 오너와의 서로 자기 차가 좋다는 입씨름도 있다고 한다한편으론 좁은 실내와 작은 차체로 을 기대했던 대기 수요가 기아 스팅어 쪽으로 이동할 것이란 예상이 있었는데 단순히 크기가 문제라면 비슷한 금액대에 훨씬 큰 차체 사이즈를 가진 패밀리 세단인 현대 그랜저 기아 이 당연히 더 좋은 대체제이므로 정확한 분석으로 보긴 어렵다 은 패밀리카 성향보다는 스포츠성에 초점을 맞춘 세단임을 감안하면 위에 서술한 내용이 구매 결정에 큰 영향을 주지 않기 때문이다 앞서 언급했듯이 그랜저 이 중년 가장을 타겟으로 한 차라면 은 달리는 재미를 추구하는 젊은층의 오너를 타겟으로 한 차다 타겟을 잡은 나이대와 차량이 지향하는 부분 부터가 애초에 전혀 다른 차인 셈이다 애초에 가성비로 놓고보면 스팅어와 의 가격차이는 사실상 없고 추가로  트림의 스팅어라면 실상으론 패션카로써의 가치가 크게 남고 그렇게 되면 플래그십 프리미엄으로 나온 에 많이 밀린다 추가로 스팅어의 후속이 나오지 않고 단종될 가능성이 높아진 이후로는 인기가 없어서 안팔리는 차라는 인식이 대중에게 각인될 가능성이 높다 괜히 이 스팅어를 본의 아니게 팀킬하고 있다는 이야기가 나오는 건 아니다전체적으로 경쟁 모델들 중에서 저렴하고 상품성도 있지만 달리기 위한 고급 컴팩트 세단이란 걸 감안하더라도 뒷좌석 실내가 좁은 것은 아쉽다는 평이 많다 특히나 비슷한 시기에 출시된 형제차 스팅어와 체급이 꽤 차이가 나는 편이라 더 두드러진다 이는 단순히 우리나라 사람들이 가격과 차급을 같이 두어서 나타나는 문제라기 보단 홍보를 스팅어와 동급으로 했으면서 실제로는 큰 차이가 나는 차체 사이즈 덕분에 예상치 못하게 작은 실내 공간이 나와서라고 봐야한다 스팅어의 경우 이렇게 작은 차가 왜 이렇게 비싸냐는 소리가 비교적 더 적은 편이다 이건 분명히 의 굉장히 큰 약점으로 작용하는데 일반적으로  오너는 젊은 남성이 많고여성은 오히려 아우디 쪽으로 몰리는 경향이 있다 구매력이 유사할 경우와 차에 욕심이 많은 젊은 여성의 경우엔 아우디 특유의 세련됨이 셀링 포인트로 잘 다가선다 대한민국의 현재 젊은 남성들의 보편적인 체구를 생각해보면 스포츠 세단이라곤 하지만 내리고 타기에 소형차 급으로 작아지는 의 실내면적은 불편함을 크게 유발하기 쉽다 건장한 성인 남성의 경우 갑갑함을 느낄 수 있는 정도현대와 제네시스 차별화 부족 문제는 결국 성능 그리고 브랜드 가치의 부족에서 찾을 수 있다제네시스 의 디자인이 현대에서 벗어나지 못했다고 지적받고 있다 아반떼 스포츠 모델에 이미 적용된 바 있는 두 줄짜리 헤드램프 패턴 그리고 현대차와 제네시스 브랜드 차량 모두가 채택하고 있는 헥사고날 그릴이 대표적인 예 사실 이 부분에 대한 비판은 비슷한 시기에 비슷한 헥사고날 그릴로 출시된 제네시스 과 그랜저의 출시 당시에도 상당 부분 제기되어 왔다 또 세대 그랜저 의 위장막 사진이 막 돌아다닐 무렵에는 한때나마 제네시스 의 테스트 카로 오해하는 사람들이 많았을 정도로 닮아 있다 컨셉카로 공개된  모델 에 적용된 두 줄짜리 헤드라이트의 디자인을 적용하기까지의 과도기적인 모습이라고는 하는데 이는 프리미엄 브랜드 디자인이 대중 브랜드로 내려오는 방식이 아니라 오히려 역행하는 모습이라면서 아쉬워하는 반응도 있다 아반떼와 을 적당히 섞으면 이 나오겠다는 평은 다소 뼈아프다 디자인은 현대와 공유하지만 제네시스 은 기존에 없던 플랫폼으로 만든 완전히 새로운 차량이며 대단히 오랜 개발기간을 들였고 고급 소재로 도배했음에도 현대 냄새가 많이 난다는 것은 아직 제네시스 브랜드만의 명확한 아이덴티티와 차별성이 부족하다는 뜻으로 볼 수 있다 사실은 제네시스가 지향하는 디자인은 현대와는 차별성을 가지고 있기는 한데 양산화 과정에서 많이 현대스러워지는 게 문제다오히려 제네시스는 앞서 예시로 든 아우디나 렉서스와 달리 현대와 차량 포지션이 겹치지 않아 플랫폼도 따로 쓰고 공유하는 부품이 훨씬 적은 완전히 새로운 차량임에도  정작 외적인 디자인에서 차별화가 부족해서 이런 문제가 대두되고 있다 디자인이 차의 가치를 깎아먹는 수준과 에서부터 현대자동차와 완전히 분리된 제네시스만의 디자인 언어와 패밀리룩이 순차적으로 적용돼서 이러한 논란은 의 페이스리프트 이후 사라졌다제네시스 은 약  길이의 세단에  마력의 터보 엔진을 장착하는 과감함을 통해 기존에 비하여 성능을 끌어올린 것은 사실이다 하지만 이는 타 브랜드의 초고성능 라인에 비해서는 여전히 한참 못 미치는 성능이다 당장 제로백만 봐도 초 가량 차이가 나며 스포츠성 또한 상당한 차이가 난다 굳이 대응시킨다면 벤츠     아우디  정도의 성능이다 이 역시 제네시스 브랜드의 차별화에 장애가 되는 요소다 메르세데스   아우디 와 같은 초고성능 모델의 존재가 소위 독일 사의 차량을 기타 프리미엄 브랜드링컨 등와 차별되게 하는 큰 요소이며 캐딜락 렉서스 볼보 등 다른 프리미엄 브랜드가 그리 이익이 나지 않는다는 점을 알고서도 기를 쓰고 고성능 모델을 개발하는 이유가 되기도 한다 그 단적인 예로 캐딜락은 를 개발함으로서 브랜드 이미지의 향상에 큰 영향을 받았다 그동안 정숙하고 편안한 차를 내세워 왔던 렉서스 조차도 계획된 판매량으로는 적자가 날 수밖에 없음을 잘 알고도 이미지 향상을 위하여 한정판 고성능 스포츠카인 렉서스 를 개발한 바가 있있고 현재도 각 모델 별로  라는 이름의 고성능 모델을 출시하고 있다 안전이라는 가치를 최우선으로 내세워 프리미엄 브랜드로서의 가치를 지켜오던 볼보 역시 마찬가지로 플러그인 하이브리드 기술 기반의 폴스타 라인업을 통하여 고성능 모델을 개발해내고 있다 그러나 이들의 고성능 모델은 여전히 나  등의 오랜 역사를 가진 튜너들의 차보다는 다소 성능이 떨어진다는 것이 중론으로 독일 사의 브랜드 가치를 따라가는 데 있어 방해하는 요인으로 작용하고 있다하지만 무턱대고 고성능 모델을 만들어도 문제인 것이 제네시스 브랜드만의 가치 부재 항목을 보더라도 제네시스는 고급 자동차 브랜드중 가장 신생 브랜드이고 모체인 현대자동차만 하더라도 진정한 스포츠카를 만든게 제네시스 쿠페 부터였다 그리고 모터스포츠에 신경을 썼으면 모를까 이제서야 와 뉘르부르크링 내구레이스에 참가를 했고 그 모델들저도 제네시스와 거리가 있는 해치백 모델들이다 이 상황에서 마력 이상 모델을 만든다고 쳐도 잠재적 소비자들이 구매로 이어질 수 있으리라고는 상상하기 힘들다 현 고성능 세단쿠페 모델 시장은 가성비보다는 브랜드의 이름값이 훨씬 중요한 시장이다 가성비가 중요했다면 캐딜락 나 렉서스   렉서스  가 잘 팔려야 하지만 실제 판매량으로는  와 메르세데스벤츠  에 미치지 못한다 특히 캐딜락과 렉서스의 이름값이 약한 국내에서는 더하다 캐딜락이나 렉서스 모두 고성능 모델을 못 만드는것도 아니고 모터스포츠에도 투자를 하는데도 와 을 넘지 못하는데 브랜드 파워가 미약하고 기술력 검증도 안 된 차를 사지 않는다는 것은 현대차의 경영자들도 인지를 하는 상황이다 고성능 제네시스  계획 없어 이름값도 무시하고 소비자둘의 이목을 끌 정도로 압도적인 가성비를 보유하고 있는 차량을 만들지 않는 이상 제네시스는 아직 고성능차 시장에서 경쟁력을 갖추지 못했다고 판단한 것이다장기적으로는 기술 개발을 통하여 현행  터보 모델 이상의 고성능 모델을 출시하고 그러한 차량을 실제 트랙에서 검증과 더불어 같은 레이싱에도 참여해서 성능을 입증하고 명성을 쌓아서 해결되어야 할 문제로 보인다해외 시장에서 제네시스 브랜드의 발목을 잡는 가장 큰 문제점이라고 할 수 있다 현대 제네시스와 에쿠스는 가성비로 상당한 실적을 거두었지만 제네시스 브랜드가 프리미엄 브랜드로서 성공하려면 제네시스만의 가치를 찾을 필요가 있다소위 프리미엄 브랜드로 성공한 브랜드들은 단지 고성능이 아닌 브랜드만의 가치를 담고 있다 그런데 제네시스의 경우는 여전히 비슷한 가격대에 옵션과 성능이 더 좋은 가성비가 좋은 차 좁고 비싼 현대차 이상의 브랜드 가치를 담아내지는 못하고 있다 이는 결국 현대차와의 차별성 부족으로 귀결되게 된다 이와 같은 현대차와의 차별화가 부재한 상태가 계속된다면 제네시스 브랜드는 성공하기 힘들 것으로 보인다 현대 딜러쉽과 제네시스 딜러쉽이 분리되지 않은 것도 여기에 한 몫한다사실 이런 차별화는 단순히 고성능 파워트레인을 넣고 소재를 고급스럽게 만든다고 되는 것이 아닌 오랜 노하우가 필요한 부분이다 대중 브랜드에서 소비자들이 따지는 최대 가치는 가격 대 성능비지만 프리미엄 브랜드에서부터는 소비자들이 다른 브랜드에는 없는 이 브랜드만의 차별성 을 더욱 찾게 되기 때문에 이는 매우 중요하다 지금처럼 타 브랜드보다 싼 가격에 더 많은 옵션 더 고급스러운 인테리어 소재 높은 출력 등의 가성비만을 내세우는 방법만으로는 한계가 있기 때문에 제네시스 브랜드 및 이 가야 할 길이 아직 많이 남았다고 볼 수 있다 렉서스가 출범 초기 싸구려 일본차의 고급 버전이라는 이미지를 씻기 위해 부단히 노력했고 북미와 일본에서는 인정받는 프리미엄 브랜드 위치에 올랐지만 아직도 일부 시장에서는 브랜드 파워가 약하고 아큐라와 인피니티는 여전히 얼마나 고전 중인지를 생각해 보면 프리미엄 브랜드에게 브랜드 가치가 얼마나 중요한지를 알 수 있게 될 것이다 이 역시 결국에는 장기적으로 현대차와 제네시스 간의 고유한 아이덴티티를 분리하여 해결해야 할 문제이다한편으로 이 문제는 판매 전략과 그 실적으로도 가늠해볼 수 있다 과 플랫폼을 공유하는 스팅어의 사례를 보면 기아자동차 측에서 스팅어의 프리미엄성도 내세웠으나 실제 수요자들은 그것보다는 성능에 주목하였다 그 결과 스팅어 출시 초기에는 성공적인 실적을 내는 듯 싶었으나 출시된 지 몇 개월 뒤에는 기아자동차의 예상을 밑도는 실적을 보이고 있다 정작 은 스팅어와는 다르게 보란 듯이 배 이상 팔리고 있다 물론 대면 그리 많다고 볼 수는 없으나 가격과 차의 사이즈를 고려하면 그럭저럭 잘 나가고 있다고 볼 수 있다반대로 이 대한민국의 자동차 시장에서 살아남기 위해선 스포츠성이나 성능이 아닌 고급성을 공략해야 한다 대한민국의 자동차 시장에서 이 정도 크기의 국산차가 이런 가격대에 팔리는 경우는 아예 없었고 클래스 시리즈     등 수입차들만이 그 가격대에 있었으나 국산차 중에선 최초로 이 그 틈에 자리하게 됐다 그런데 시장 전체에서 소수에 속하는 스포츠성 고성능 지향 수요자들만을 공략한다면 시장에서의 비중을 키우기 힘들다 차라리 큰 차고급차 라는 고정관념을 깰 수 있는 고급형 중형차 이미지를 형성하는 것이 시장에서의 생존에 유리하다 실제로 동급 차종인 세대 렉서스 가 고급성으로 국내에서 좋은 실적을 냈다 이를 위해서는 제네시스가 위에서 언급된 문제들이 있음에도 불구하고 구입할 만한 가치가 있다는 것을 보여주어야 하며 이는 현대차의 브랜드 고급화 노력과 판매 전략 수립이 함께 조화를 이루어야 이루어질 수 있을 것이다이는 제네시스가 출범한지 얼마 안 된 아직 걸음마 단계에 있는 브랜드라는 점에서 기인하는 면이 크다 그러한 이유로 지금은 제네시스현대라는 이미지를 벗어버리지 못하고 있지만 장기적인 안목으로 어떠한 모습으로 발전해 나가게 될지 지켜볼 필요가 있을 것이다차 자체는 제법 잘 만들었다 특히  터보 모델의 주행 성능은 국산차로는 최고 수준 사실상 이 가격대의 차량 중 주행 성능만 보면 형제차인 스팅어를 제외하고는 에 필적하는 차가 없다시피하다 그나마   터보와 비슷한 가격대에서 스펙상 주행 성능이 비슷한 차량이 렉서스    스포츠이지만 그래도   터보에게 스펙상으로 뒤쳐진다 목표 판매량의 인 대가 주일 만에 계약이 이루어졌지만 이 계약이 모두 판매로 연결되었는지는 밝혀지지 않았다 년 월에는 대가 판매되었다년 월에는 대년 월에는 대년 월에는 대무난한 판매량으로 꾸준히 잘 팔리고 있으며 가격대를 생각하면 최소한 중박이상은 친걸로 보인다 스포츠성을 더 강조한 스팅어는 대도 못 파는 걸 상기하면 고급성을 강조한 제네시스라는 브랜드가 한국에서는 더 잘 먹히는 듯 하다탑리뷰 에서 진행한 인제스피디움 테스트에서 타이어 교체와 브레이크 패드윈맥스 보강만 한 상태로 분 초 를 기록하였다 순정  의 기록분 초을 많이 따라온 수준으로 제대로 튜닝 할 경우 서킷에서는 순정 상태의 에도 어느 정도 비벼볼만 하다는 이야기도 있다년 북미올해의차년 북미올해의년 북미올해의트럭선정 차량년형 제네시스년형 현대코나년형 닷지램모터트렌드에서  올해의 차로 선정되었다 기사 원문 번역 번역 도요타 닛산 혼다  등 그 어떠한 회사에서도 만들어내지 못한 시리즈의 진정한 경쟁자로 평가받았고 출력 핸들링 가성비 등 다방면에서 매우 고평가를 받으며 한국 차량 중 최초로 를 수상하는 쾌거를 이루어냈다 그리고 카 엔 드라이버   베스트 카에도 선정되었다 기사 원문 이후 북미국제오토쇼에서도 년 북미 올해의 자동차에 선정되었다 이로써 은 년도 북미의 대 자동차 상을 모두 수상하는 쾌거를 이루었다년 세계 올해의 차에도 후보로 올라갔으나 재규어 페이스가 수상되었다생산지 대한민국 울산광역시 북구 양정동코드네임차량형태도어 중형 스포츠 세단승차인원명전장전폭전고축거윤거전  윤거후 공차중량  연료탱크 용량요소수탱크 용량트렁크 용량타이어 크기전             타이어 크기후              플랫폼현대  플랫폼구동방식앞엔진뒷바퀴굴림앞엔진바퀴굴림전륜 현가장치듀얼링크 맥퍼슨 스트럿 서스펜션후륜 현가장치더블 위시본 기반 멀티링크 서스펜션전륜 제동장치벤틸레이티드 디스크 브레이크후륜 제동장치벤틸레이티드 디스크 브레이크파워트레인모델엔진엔진 형식과급방식배기량최고출력최고토크변속기가솔린현대 세타  직렬 기통싱글터보  단 수동변속기 단 자동변속기현대 람다  형 기통트윈터보단 자동변속기디젤현대   직렬 기통싱글터보단 자동변속기기존에 최하위 트림에 들어가던 풋 파킹 브레이크족동식 브레이크가 사라지고 전자식 파킹 브레이크를 기본화 시켰으며 옵션으로 전동식 트렁크가 추가되었다 또한 내비게이션에 사운드하운드가 들어가고 공기청정 모드 고화질 가 들어간다 그리고  트림에는 북미 수출형에 들어가는 전용 스포크 휠로 변경되며 세계 최초로 인치 무안경  계기판이 들어간다 그리고 기존  사양에서  모듈을 더해 동력 전후 배분뿐만이 아니라 좌우 배분까지 수행하는 다이내믹  시스템으로 변경되었으며 이 또한 현대기아 최초로 들어가는 옵션이다 연식 변경 전에는 인치 휠이 다크그레이로 도색되어 있었으나 년형으로 변경되면서 은색에 가까운 밝은 회색광택이 있으므로 사실상 그냥 은색으로 변경되었다여담으로 년 제네시스 신차 중 전방 충돌 방지 보조가 기본으로 적용되지 않았다 엔트리 모델이라지만 명색이 프리미엄 브랜드 차량인데 여전히 옵션사항인 것은 이해하기 힘든 단점이다년 월 일부터 판매를 시작하였다 제네시스 액티브 세이프티 컨트롤 옵션을 전 트림에 기본적용하여 스타팅 가격이 기존보다 올랐으나 동일 옵션 포함 가정시 작년보다 만원 인하되었다 또한 기존  트림에서만 선택 가능했던 인치  계기판을  트림에서도 선택 가능하게 되었다 또한 얼티밋 패키지 옵션을 신설하여 카본소재를 차량에 더할 수 있게 되었다 기존 브렘보 브레이크 옵션도 얼티밋 패키지 나 에 포함되게 변경되었다 그리고 그동안 앞좌석에만 적용되어 프리미엄 논란의 원인 중 하나가 되었던 전자동 오토윈도우를 뒷좌석에까지 확대 적용하였다 움직임 그것은 우리의   년 월 제네시스  페이스리프트가 출시되었다 외관적으로는 제네시스의 투라인 패밀리룩을 따르면서 이제는 완전히 제네시스의 아이덴티티로 편입되었고 실내는 인치 내비게이션에서 를 지원하는 인치로 화면 크기가 커졌다 또한 디지털 키 지원 등 소소한 디테일이 추가되었다 내비게이션 기반 스마트 크루즈 컨트롤 차로 유지 보조 전방 주차 거리 경고 후진 가이드 램프 레인 센서 등 기본 적용되었으며 색상은 본드 실버 베르비에 화이트 멜버른 그레이 세도나 브라운 태즈먼 블루 등 총 가지이다 스팅어와 달리 디젤을 포함한 모든 모델의 파워트레인이 그대로 사용된다 공차중량은 의 경우 전기형과 같고  디젤은  무거워졌다 다행히  사양은  가벼워졌다 스팅어  사양이 나 가벼워진 것에 비하면 아쉬운 부분이다출고가의 경우 코로나바이러스감염증로 인해 년 월까지 연장 시행되는 개소세를 로 인하한 기준으로  기본 출고가는 만원부터  트림의 모든 옵션을 다 넣은 풀옵션 모델의 경우 만원까지 올라간다 주력 트림은 기본  모델에 대중적인 옵션들을 추가한 만원 중후반대가 될 것으로 보인다 또한 옵션 구성 방식은 최근 제네시스의 신차들과 동일하게 인디오더 방식을 채택하고 있다전 모델과 달리 디젤 모델에도 인치 휠이 옵션으로 추가되고 스포츠 패키지를 넣을 수 있다  나 벤츠 를 의식한 듯 하다 등 타 차종의 사전계약 때 일주일 만에 계약 실적 만대 돌파 월 이후 계약하면 연내 인도받기 어려워 등 홍보성  자료를 적극 배포했던 것과는 달리 금번  페이스리프트는 월 중순부터 사전계약을 받고 나서도 별도로 계약 실적 등을 공개하지 않았으나 본격 출고가 시작된 년 월 국산차 판매량에서 대가 팔리며 대 팔린 스팅어 페이스리프트의 약 배가 더 팔렸다 매체에서는 스팅어보다 더 높은 가격대인 이 몇배 높은 판매량을 보인 이유로 두 차량의 브랜드가치 차이와 이 제네시스의 투라인 패밀리룩으로 편입된 점을 꼽았다년 월 일부로 과 더불어 내수형은 환경 규제 수요 저조로 인해 디젤 모델이 단종된다 그리하여 현대자동차그룹의 디젤 세단 라인업들이 국내에서 모두 전멸되었다   모델구분 가솔린 가솔린 디젤최초생산년도년 월 일이전 세대 모델없음제조국가 및 제조사대한민국 제네시스차량가격만원만원만원엔진세타 람다  엔진형식 직렬 기통 싱글터보  트윈터보 직렬 기통 싱글터보 디젤과급기싱글터보트윈터보싱글터보배기량 연료휘발유  경유출력     최고토크   미션형식자동 단구동방식    전륜타이어                 후륜타이어                 전륜 서스펜션듀얼링크 맥퍼슨 스트럿후륜 서스펜션더블 위시본 기반 멀티링크전륜 브레이크 디스크후륜 브레이크디스크 디스크연비자동   등급자동   등급자동   등급등급탄소 배출량승차인원명전장전폭전고축거공차  펼치기  접기     자세한 내용은 제네시스  슈팅 브레이크 문서를의 번 문단을의  부분을 참고하십시오아무래도 페이스리프트의 한계상 기존  전기형의 뒷쪽 금형을 수정하지 않는 선에서 디자인 변경이 이루어졌고 그러면서도 제네시스 브랜드의 패밀리룩인 투라인 램프를 그대로 적용하려다 보니 전체적으로 디자인의 밸런스가 무너지고 호불호가 심하게 갈리는 결과물이 탄생하였다는 평이 많다 그리고 슈팅 브레이크스테이션 왜건가 가지고 있는 특성 중 하나인 리어도어 뒤쪽 필러 앞 윈도우는 추가하지 않고 기존  세단의 필러 패널만 늘려서 슈팅 브레이크라는 이름만 갖다 붙이고 만 것처럼 보여서  왜건과 달리 이름에 맞게 제대로 만들지 못했다는 비판을 피해가진 못할 것으로 보인다 가장 많은 비판을 받은 후미등의 경우 기존  후미등의 형상을 그대로 유지한 채 정말 문자 그대로 라인 개를 욱여넣기만 한 수준이다 그러나 예상과 반대로 오히려 선방한 판매량을 보면 조기 풀체인지를 걱정할 만한 수준은 아니라고 볼 수 있다년 월에 북미에 출시하면서 보인 북미 반응은 국내 여론과는 다소 상반된 모습이다 제네시스의 캐릭터를 잘 살린 디자인이라며 구형보다 낫다는 호평이 대부분이다 국내에서 많은 비판을 받은 후미등에 대해서도 별다른 말이 없고 오히려 후면부 범퍼의 번호판 쪽 주변 검은 플라스틱이 저렴해보인다는 언급이 더 많을 정도다파워트레인에서는 무슨 이유인지 몰라도  세대   등에 투입된 와  같은 신규 파워트레인이 적용되지 않고 기존과 동일한 구형    파워트레인을 개선하는 선에서 그쳤는데 같은 차체를 사용하는 스팅어는 페이스리프트와 함께 가 로 교체되며 마력에서 마력으로 상당히 유의미한 출력향상을 받아갔으므로 아무래도 비교가 될 수밖에 없는 결정이다 같은 경우 두 차량 모두 기존 엔진을 그대로 사용한다 출고가의 경우도 스팅어에 비해 적게는 만 원에서 많게는 만 원가량 이 더 비싸다또한 전면부 디자인에서도 호불호가 갈리며 오히려 스포츠성은 전기형이 더 강조되었다는 이야기도 많다차 페이스리프트를 거치지 않고 바로 풀체인지로 코드명만 공개됨 나올 경우  플랫폼을 사용해 기존 의 단점이었던 열 공간의 거주성이 상당부분 개선될 것으로 보인다다만 플랫폼을 유지하면서 내외관 디자인을 변경한 차 페이스리프트로 세대를 연명함과 동시에 실내를 과 유사한 스타일로 변경한다는 소문이 돌고있다 만약 이렇게 될 경우 스팅어와 마찬가지로 세대 전동화 모델의 별도 출시없이 단종될 가능성도 어느정도 무시하진 못할 것으로 예상된다  저녁 일일드라마 끝까지 사랑에서 강세나홍수아의 차량으로 등장한다 저녁일일극 여름아 부탁해의 등장인물 주상미의 아우디 가 고장난 후 주상미이채영가 임시로 운전했던 차량이다 드라마 부부의 세계에서 여다경한소희의 차량으로 등장한다 드라마 미스 몬테크리스토에서 오하라최여진의 차량으로 등장한다 드라마 지금 헤어지는 중입니다에서 빨간색 세대 제네시스  후기형이 황치숙최희서의 차량으로 등장한다 드라마 사내 맞선에서 진영서설인아의 차량으로 세대 모델이 등장한다 드라마 이브에서 이라엘서예지의 차량으로 세대 모델이 등장한다모바일 시뮬레이션 게임 운전교실에 등장한다 게임 등장으로는 최초로 등장한다그란 투리스모 에 페이스리프트 된   사양이 레이스 사양과 함께 수록됐다 레이스 사양은  차량이며 제네시스 는  사양으로 동시에 공개됐다 레이싱 게임 최초로 정식 라이센스를 받아서 등장하는 셈이다시티레이서에서 페이스리프트 전 모델이 등장한다 물론 라이센스를 받지는 않아 공식적으로 등장하진 않는다 국산차 버프를 받은 듯 게임 내에서는 토요타 수프라 포르쉐 파나메라와 함께 삼대장으로 군림하고 있다현대자동차그룹의 첫 스포츠 세단이다보니 오랜 테스트를 통해서 많은 공을 들였다 현대자동차그룹 역사상 개발 기간만 년으로 개발 기간이 긴 차량이다출시 초기 목표 판매량을 조기 달성 하는 등 신차효과를 톡톡히 누렸으나 그 이후부턴 년 하반기 까지 월 대를 판매하겠단 목표를 정확하게 지키고 있었다 이후 북미에서 잇따라 올해의 차량으로 선정되면서 년말 부터 되려 판매실적이 늘고 있다고 한다 출시 년차인데다 그랜저보다 고가의 준중형차가 대략 월 대대 정도 팔린다고 하며 년 월까지의 국내 판매 실적은 대략 대를 넘었다 같은 기간 북미에서도 대가 팔렸다고 그러나 페이스리프트를 목전에 둔 년에는 월 평균 여대 수준으로 다소 부진한 모습을 보였다미국 캐나다 한정으로 단 수동변속기 옵션이 존재하며   트림만 선택이 가능하다 하지만 판매량 저조로 인해 년에 단종되었다년형에도 내비게이션 업데이트 후 사운드하운드가 적용된다년 대한민국 경찰청이 암행순찰차로  스포츠  엘리트 모델을 도입하였다 그리고 고속도로에서 시속 를 넘게 달리고 있던 메르세데스벤츠 와 쉐보레 카마로를 교통정체 없이 현행범으로 검거하기에 이르렀으며 현재까지 검거된 차량 중 최고속도는 포르쉐  가 시속 약 를 기록했다고 한다 이 경찰차들은 고속도로 순찰대 중에서도 배테랑 경찰들만 운용을 시킨다고 한다 성능을 입증받았는지 년 이후에는 지방도로 및 시내도로 암행순찰차에도 이 도입되었다 이렇다 보니 차에 암행순찰 이미지가 박히게 되었고  오너들은 운전할 때마다 주변 차량들이 저절로 얌전해진다고 말한다작은 실내공간 탓에 아반떼 같은 준중형차로 오해하는 사람도 적지 않다 이는 경쟁 차량인 시리즈 클래스 도 마찬가지이며 이나   등도 준중형 로 알고 있는 사람도 많다 다만 럭셔리 브랜드 자동차는 대중 브랜드 자동차보다 세그먼트를 한급 거져먹고 결국 이로 인해 실내공간 역시 한급 아래의 자동차랑 비교해야 하기 때문에 이 오해가 완전히 틀린 것은 아니다후륜구동 중형 세단인 점을 감안하면 스텔라의 방계 후손 격으로 볼 수 있다년 중반  하반기에 이 제네시스 쿠페의 후속이라는 루머가 있었다고 한다 한때 네이버와 다음의 블로그와 카페 보배드림 등에서 의 프로젝트 가 제네시스 쿠페의 후속이라는 루머가 나왔고 의 플랫폼이 제네시스 쿠페의 차체로 테스트를 진행하는 모습 때문에 이 제네시스 쿠페의 후속이라는 루머가 맞을 확률이 매우 높아졌으나 몇 달 뒤 완전한 현재 의 모습으로 나온 도어 스포츠 세단의 테스트카가 발견되어 아니라고 확정났다 기반의 쿠페 버전으로 기획된 걸로 추정되는 이라는 중형 스포츠 쿠페가 출시 예정이라고 한다 하지만 후속 정보가 없어서 개발이 미뤄졌거나 취소 됐다는 얘기가 떠돌고 있고 결국  시리즈는 잠정적으로 취소된게 아니냐는 의문이 제기됐으나 최근 미디어오토의 장진택 기자에 의하면 실제로 제네시스에서 도어 쿠페 프로젝트가 진행되고 있다고 한다년 월 일 콘셉트카 제네시스 가 발표됨에 따라 향후 전기차 방식으로 출시될 것으로 보인다 다만 한 등급 이상의 헤일로카로써 나올 예정카미디어에 따르면 사용설명서에는 분명히 리모트 컨트롤로 유리창을 닫을 수 있는 원격 유리창 닫힘 기능이 있다고 적혀있으나 실제로는 없는 기능이라고 한다 이에 대하여 현대자동차에서는 앞으로도 이 기능을 넣지 않고 오히려 사용설명서에서 해당 내용을 삭제한다고 한다 이 외에 별다른 해명은 없었다이에 대하여 카미디어 장진택 기자는 제네시스 에는 앞좌석운전석과 동반석만 원터치 파워 윈도우가 적용되어 있다 고로 앞좌석 유리창에만 안전 장치 가 들어있고 뒷좌석 유리창엔 그런 안전 장치가 없다 이런 이유 때문에 원격 유리창 닫힘 기능 이 들어가지 않았고 추가로 이 기능을 넣기도 쉽지 않아 사용설명서에서 해당 내용을 삭제하는 것 으로 밀어붙인 듯 하다 결국 원가 절감 및 추가 비용 발생 을 피하기 위해욕을 먹더라도 사용설명서에서 내용을 삭제한 것으로 보인다라고 평하였다그러나 원터치가 앞좌석 유리에만 적용되어 기능 자체가 애초에 들어갈 수 없는 모델임에도 설명서에 해당 기능이 적혀있었던 것은  이전 모델 중 가장 최근에 출시된 의 설명서를 수정해서 만드는 과정에서의 편집 오류일 가능성도 있다 원가 절감을 위해서 구상 과정에서 넣으려다 만 것인지 아니면 단순한 편집 오류인지는 현대차 관계자만이 알 수 있는 일이다 또한 무엇보다 잘못된 사용설명을 삭제했을 때 욕먹는 것은 잠깐이지만 안그래도 현기차 주제에 그랜저보다 비싸다고 까이는 상황에서 가격이 더 올라간다면 그게 더 악재가 될 가능성이 높다고 판단했을 수 있다 등이 비정상적으로 점등이 되는 결함이 발견되었다  업데이트로 해결되며 구매자 들에게 무료 수리 안내가 서면으로 발송되었다 단 마이너한 결함이다보니 구매자 들에게 크게 이슈가 되지는 않은 듯년 월 일부터 동년 월 일까지 생산된 차량의 전후면 유리의 접착 관련 이슈로 인해 고속주행 중 유리 이탈 가능성이 제기되어 해당 기간 생산분 차량 대의 자발적 리콜이 진행되었다브렘보 브레이크 사양의 경우 고속주행 때 제동을 하면 스티어링과 브레이크 페달이 떨리는 저더현상이 자주 발생한다 사실상 전세대 모델인 젠쿱의 브렘보 브레이크 사양에서도 똑같이 발생했던 문제인데 짧으면  길면  이내에서도 발생하며 동일한 하체를 사용하는 스팅어도 마찬가지 현상을 겪고 있다통상적으로 저더 현상의 원인으로 꼽히는 런아웃 두께변동 표면 거칠기 변화 세 가지 요소 중 의 저더는 대부분 번째 표면 거칠기 변화로 인한 것이다 동호회나 관련 커뮤니티에는 열변형으로 디스크 로터 자체가 휘어버려 런아웃이 생기는게 주 원인이라는 의견이 널리 퍼져 있지만 이건 장기간 사용했거나 솔리드 디스크 로터이거나 고부하 주행 직후에 물을 뿌려 퀜칭 시키는 극단적인 경우에서나 볼 수 있고 피스톤 리턴이 제대로 안돼서 로터가 불균일하게 깎여서 생기는 두께변동은 플로팅 캘리퍼에서 주로 발생하는 문제라서 고정식 캘리퍼인  스팅어 젠쿱 브렘보와는 별 관련이 없다즉 젠쿱 과 마찬가지로 디스크 로터의 직경에 비해 두께가 얇아서 온도가 빨리 상승하고열용량이 작음 저소음과 저분진을 위한 유기물 소재의 순정 브레이크 패드가 작동할 때 점착 모드로 바뀌어 디스크 표면에 불균일하게 점착되는 것이 주 원인으로 추정되는데 퍼포먼스 패키지에 사용되는 세미 메탈릭 패드에서 문제가 보고되지 않았다는 것이 이를 뒷받침한다공식적인 리콜대상으로 지정되지 않아 보증 내 교체시 사업소나 블루핸즈마다 대응이 다르다 순정 패드디스크의 교환은 대부분 어렵지 않았으나 년 이후로 보증 항목에서 제외되었다 저더 문제가 보고되어 있지 않은 퍼포먼스 패키지의 세미 메탈릭 패드는 부품점 출고가 금지되어 있으므로 사업소나 블루핸즈를 통해서 구해야 한다동일한 문제를 먼저 겪은 젠쿱 오너들은 저더가 생기면 페로도젠쿱 순정 세트 만원 브렘보 수입품젠쿱 순정 개당 만원이라 비싼 순정 패드와 디스크 로터 대신 만원 초반대로 해외직구가 가능한 스톱텍 호크 등의 세미 메탈릭 브레이크 패드와 개당 만원밖에 안하는 금강 브레이크의   디스크 로터 같은 저렴한 조합으로 바로 교환해버리는 경우가 많다 브레이크 에어 가이드를 장착해서 디스크 온도 상승을 억제하는 것도 방법이 될 수 있고 자금 여유가 있으면 페로도  등의 브레이크 패드를 방열성능이 순정보다 우수한 피스 디스크 로터와 조합해도 된다 젠쿱 와 패드가 비슷한 모양이라 여기에 쓰이던 패드를 사용하기도 하나 일부 제품은 아예 장착이 불가능하기도 하고 밸런스 웨이트 모양 때문에 휠과 간섭이 생기는 경우도 있으니 가능하면 전용 제품을 사용하는 것이 좋다  스팅어 브렘보 전용 패드 정보는 다음 링크를 참고하면 된다그리고 젠쿱  스팅어 브렘보 공통적으로 브레이크 패드 교환 시 패드 마모 인디케이터의 위치에 신경써야 한다 일반적으로 마모 인디케이터는 캘리퍼 내측에 디스크 로터가 회전하면서 브레이크 패드와 만나는 방향에 마모 인디케이터가 위치하도록 장착하는 것이 정석이나 젠쿱  스팅어 브렘보 고정식 캘리퍼는 마모 인디케이터가 달린 패드를 캘리퍼 내측에 장착하면 캘리퍼와 간섭이 발생해서 내측 패드가 제대로 로터와 맞닿지 않아 로터의 불균일 마모를 유발한다 이 캘리퍼는 패드의 마모 인디케이터가 캘리퍼 외측에 위치해야 하지만 정비현장에서 마모 인디케이터의 위치를 신경쓰는 경우가 그다지 없고 이런 걸 신경쓸만한 애호가 층은 순정 패드를 쓰는 사람이 그다지 많지 않아 순정 패드의 마모 인디케이터 장착 위치 지침을 모르고 그냥 정석대로 하려는 경우가 많다보니 패드 오장착이 로터 편마모를 유발하여 저더 현상을 더욱 심화시키는 경우가 종종 있다년 월 몬터레이 카 위크에서 콘셉트카로 공개된 차량으로 그란 투리스모 에 등장한다   는 의  클래스 참가 차량을 연상시켜 제네시스를 상징하는 황동색에 고유 패턴인 지매트릭스를 가미한 리버리가 적용되었다기아  스팅어메르세데스벤츠  클래스  시리즈아우디  렉서스  재규어  인피니티  캐딜락  볼보  알파 로메오  줄리아아큐라  차량 목록   펼치기  접기 차급생산 차량단종 차량준중형중형 준대형대형준중형 중형 준대형 대형 콘셉트 카출처출처를 반드시 삽입해 주세요날짜이미지가 만들어진 날짜를 삽입해 주세요저작자이미지의 저작자를 삽입해 주세요저작권이미지의 저작권과 관련된 기타 정보를 삽입해 주세요기타기타 정보가 있으면 삽입해 주세요이미지의 자세한 설명을 적어 주세요\n"
     ]
    }
   ],
   "source": [
    "title_corpus=\"\".join(df[\"title\"].tolist())\n",
    "category_corpus=\"\".join(df[\"category\"].tolist())\n",
    "content_corpus=\"\".join(df[\"content_text\"].tolist())\n",
    "\n",
    "print(title_corpus)\n",
    "print(category_corpus)\n",
    "print(content_corpus)"
   ]
  },
  {
   "cell_type": "markdown",
   "metadata": {},
   "source": [
    "### [konlpy를 이용해 키워드 추출하기]"
   ]
  },
  {
   "cell_type": "code",
   "execution_count": 11,
   "metadata": {},
   "outputs": [
    {
     "name": "stdout",
     "output_type": "stream",
     "text": [
      "Counter({'제네시스': 57, '것': 51, '브랜드': 46, '스팅어': 44, '모델': 42, '이': 42, '차량': 42, '수': 36, '년': 32, '등': 30, '더': 30, '차': 30, '월': 29, '의': 27, '스포츠': 26, '경우': 26, '브레이크': 24, '자동차': 23, '옵션': 22, '트림': 21, '디자인': 20, '가격': 20, '현대': 20, '패드': 20, '문제': 19, '적용': 19, '성능': 19, '좌석': 19, '중': 17, '프리미엄': 16, '비': 16, '출시': 16, '터보': 15, '만원': 15, '가치': 15, '디스크': 15, '이미지': 14, '일': 14, '엔진': 14, '파워': 14, '시리즈': 14, '등장': 14, '고성능': 14, '앞': 13, '만': 13, '추가': 13, '기존': 13, '디젤': 12, '때문': 12, '사용': 12, '고급': 12, '변경': 12, '정도': 12, '가성': 12, '를': 12, '시장': 12, '렉서스': 12, '페이스': 12, '북미': 12, '부분': 11, '실내': 11, '판매': 11, '순정': 11, '개발': 11, '카': 11, '리프트': 11, '로터': 11, '방식': 10, '달리': 10, '현대차': 10, '때': 10, '은': 10, '차이': 10, '또한': 10, '서스펜션': 10, '윈도우': 10, '기능': 10, '사실': 10, '공간': 10, '세단': 10, '세대': 10, '삽입': 9, '공개': 9, '중형': 9, '플랫폼': 9, '크기': 9, '다년': 9, '기본': 9, '이후': 9, '급': 9, '인': 9, '브렘보': 9, '리퍼': 9, '수준': 9, '실제': 9, '볼': 9, '그': 9, '판매량': 9, '쿠페': 9, '실적': 9, '사양': 9, '젠쿱': 9, '싱글': 8, '가솔린': 8, '오히려': 8, '모습': 8, '차체': 8, '위치': 8, '터치': 8, '테스트': 8, '듯': 8, '인치': 8, '아반떼': 8, '점': 8, '기아': 8, '국내': 8, '아우디': 8, '대한민국': 8, '나': 8, '트레인': 7, '컨셉': 7, '매우': 7, '대가': 7, '소재': 7, '과': 7, '선택': 7, '차별': 7, '이름': 7, '모든': 7, '주행': 7, '로': 7, '클래스': 7, '후륜': 7, '기반': 7, '소비자': 7, '그랜저': 7, '이상': 7, '이유': 7, '위': 7, '최초': 7, '계약': 7, '올해': 7, '마모': 7, '디케이터': 7, '정보': 6, '루머': 6, '진행': 6, '자체': 6, '트렁크': 6, '전': 6, '패키지': 6, '위해': 6, '제로': 6, '초': 6, '기자': 6, '후': 6, '출고': 6, '타이어': 6, '다른': 6, '국산': 6, '최고': 6, '풀': 6, '너': 6, '현재': 6, '기간': 6, '등급': 6, '사람': 6, '패밀리': 6, '가능성': 6, '모두': 6, '못': 6, '캐딜락': 6, '통': 6, '내': 6, '드라마': 6, '발생': 6, '관련': 5, '기타': 5, '설명': 5, '단': 5, '뉴욕': 5, '원': 5, '약': 5, '휠': 5, '초기': 5, '장치': 5, '삭제': 5, '운전': 5, '및': 5, '장': 5, '다만': 5, '미디어': 5, '셈': 5, '링크': 5, '사이즈': 5, '평': 5, '평이': 5, '크게': 5, '제대로': 5, '알': 5, '생각': 5, '대응': 5, '마력': 5, '스펙': 5, '모드': 5, '상황': 5, '역시': 5, '내용': 5, '가장': 5, '후속': 5, '단종': 5, '대중': 5, '마찬가지': 5, '선정': 5, '생산': 5, '자동': 5, '그대로': 5, '준': 5, '유리창': 5, '날짜': 4, '저작자': 4, '저작권': 4, '라인업': 4, '자동변속기': 4, '도': 4, '예정': 4, '미국': 4, '공유': 4, '모터': 4, '기준': 4, '가량': 4, '배기량': 4, '채택': 4, '단점': 4, '지향': 4, '연식': 4, '시': 4, '독일': 4, '일부': 4, '언급': 4, '말': 4, '장기': 4, '형식': 4, '위시': 4, '램프': 4, '요소': 4, '하나': 4, '후미': 4, '메탈': 4, '날': 4, '값': 4, '한국': 4, '벤츠': 4, '비교': 4, '교환': 4, '발': 4, '체인지': 4, '이야기': 4, '뒤': 4, '포함': 4, '세계': 4, '목표': 4, '공략': 4, '신차': 4, '그룹': 4, '쪽': 4, '예상': 4, '구매': 4, '걸': 4, '두': 4, '비판': 4, '다소': 4, '차별성': 4, '가지': 4, '신경': 4, '출력': 4, '륜': 4, '직렬': 4, '내비게이션': 4, '원인': 4, '게임': 4, '사용설명서': 4, '해당': 4, '현상': 4, '대형': 4, '출처': 3, '트윈': 3, '존재': 3, '실루엣': 3, '폭': 3, '자식': 3, '장착': 3, '라면': 3, '조작': 3, '깡통': 3, '외관': 3, '공식': 3, '아예': 3, '기사': 3, '당시': 3, '주변': 3, '영향': 3, '전장': 3, '현행': 3, '형제': 3, '전륜': 3, '듀얼링크': 3, '맥퍼슨': 3, '더블': 3, '멀티': 3, '은색': 3, '줄': 3, '건': 3, '구입': 3, '성향': 3, '차라': 3, '결정': 3, '규제': 3, '대표': 3, '데': 3, '토크': 3, '최': 3, '얼마나': 3, '지적': 3, '상품': 3, '사고': 3, '안': 3, '이전': 3, '시트': 3, '대한': 3, '주': 3, '장진': 3, '택': 3, '더욱': 3, '커뮤니티': 3, '여기': 3, '평가': 3, '인식': 3, '작용': 3, '모양': 3, '고유': 3, '동시': 3, '층': 3, '달': 3, '그동안': 3, '소위': 3, '편이': 3, '임': 3, '감안': 3, '타겟': 3, '애초': 3, '전체': 3, '남성': 3, '유발': 3, '부족': 3, '제기': 3, '오해': 3, '아이덴티티': 3, '과정': 3, '분리': 3, '통해': 3, '타': 3, '볼보': 3, '향상': 3, '안전': 3, '기술': 3, '레이스': 3, '메르세데스벤츠': 3, '해결': 3, '상태': 3, '지금': 3, '배': 3, '선': 3, '차로': 3, '강조': 3, '교체': 3, '기록': 3, '공차': 3, '용량': 3, '전용': 3, '컨트롤': 3, '투라': 3, '유지': 3, '전기': 3, '최근': 3, '보': 3, '슈팅': 3, '대부분': 3, '암행': 3, '유리': 3, '두께': 3, '표면': 3, '불': 3, '세미': 3, '릭': 3, '요기': 2, '우리': 2, '양산': 2, '단계': 2, '발표': 2, '스튜디오': 2, '상의': 2, '전혀': 2, '형상': 2, '또': 2, '만큼': 2, '프라이': 2, '빗': 2, '관람': 2, '서울': 2, '성품': 2, '별': 2, '전동': 2, '시스템': 2, '스티': 2, '링': 2, '상급': 2, '둘': 2, '제공': 2, '한편': 2, '석': 2, '심지어': 2, '완전': 2, '리터': 2, '트윈터보': 2, '자료': 2, '면': 2, '천': 2, '이기': 2, '환경': 2, '스트럿': 2, '여름': 2, '용': 2, '피스톤': 2, '빨간색': 2, '무난': 2, '대체로': 2, '헤드': 2, '반면': 2, '대해': 2, '의식': 2, '입': 2, '꽤': 2, '유로': 2, '처음': 2, '호평': 2, '구성': 2, '한정': 2, '수치': 2, '트랙': 2, '수입': 2, '원대': 2, '후륜구동': 2, '과감': 2, '판': 2, '트렌드': 2, '수출': 2, '특성': 2, '트': 2, '차라리': 2, '고려': 2, '아래': 2, '높이': 2, '포지션': 2, '여유': 2, '소형차': 2, '얘기': 2, '대상': 2, '상대': 2, '게': 2, '오토': 2, '의자': 2, '동호회': 2, '기도': 2, '문화': 2, '각인': 2, '보편': 2, '주장': 2, '지형': 2, '직후': 2, '최대': 2, '엔트리': 2, '란': 2, '소리': 2, '수요': 2, '앞서': 2, '로써': 2, '경쟁': 2, '성도': 2, '시기': 2, '홍보': 2, '왜': 2, '이건': 2, '일반': 2, '여성': 2, '바': 2, '패턴': 2, '헥': 2, '그릴': 2, '예': 2, '상당': 2, '막': 2, '반응': 2, '부품': 2, '정작': 2, '화가': 2, '논란': 2, '길이': 2, '함': 2, '초고': 2, '라인': 2, '사의': 2, '계획': 2, '스포츠카': 2, '로서': 2, '스타': 2, '부재': 2, '항목': 2, '부터': 2, '모터스포츠': 2, '이제': 2, '참가': 2, '거리': 2, '검증': 2, '무시': 2, '판단': 2, '레이싱': 2, '입증': 2, '해외': 2, '필요': 2, '딜러': 2, '방법': 2, '한계': 2, '출범': 2, '버전': 2, '노력': 2, '아큐라': 2, '인피니티': 2, '전략': 2, '자': 2, '그것': 2, '몇': 2, '반대': 2, '소수': 2, '마': 2, '대의': 2, '제외': 2, '대년': 2, '원문': 2, '번역': 2, '쾌거': 2, '년도': 2, '재규어': 2, '승차': 2, '인원': 2, '전고': 2, '중량': 2, '연료': 2, '탱크': 2, '바퀴': 2, '현가': 2, '제동장치': 2, '벤틸': 2, '레이티': 2, '드': 2, '세타': 2, '수동변속기': 2, '람다': 2, '윈터': 2, '터': 2, '파킹': 2, '사운드': 2, '하운드': 2, '계기': 2, '전후': 2, '배분': 2, '그레이': 2, '그냥': 2, '전방': 2, '보조': 2, '시작': 2, '팅': 2, '인하': 2, '얼티밋': 2, '편입': 2, '지원': 2, '일이': 2, '가이드': 2, '가의': 2, '세': 2, '별도': 2, '저조': 2, '접기': 2, '참고': 2, '수정': 2, '밸런스': 2, '호불호': 2, '리': 2, '필러': 2, '넣기': 2, '조기': 2, '구형': 2, '부': 2, '개선': 2, '바로': 2, '저녁': 2, '일일': 2, '상미': 2, '투리스모': 2, '라이센스': 2, '포르쉐': 2, '하반기': 2, '준중형차': 2, '대략': 2, '업데이트': 2, '순찰차': 2, '도입': 2, '고속도로': 2, '시속': 2, '검거': 2, '순찰': 2, '다음': 2, '프로젝트': 2, '도어': 2, '발견': 2, '추정': 2, '취소': 2, '콘셉트카': 2, '원격': 2, '대하': 2, '원가': 2, '절감': 2, '편집': 2, '오류': 2, '결함': 2, '이슈': 2, '고속': 2, '리콜': 2, '변동': 2, '변화': 2, '고정식': 2, '온도': 2, '상승': 2, '점착': 2, '퍼포먼스': 2, '보고': 2, '보증': 2, '사업': 2, '소나': 2, '블루핸즈': 2, '페로': 2, '조합': 2, '제품': 2, '간섭': 2, '정석': 2, '그다지': 2, '근본': 1, '독창': 1, '주요': 1, '후륜용': 1, '반영': 1, '내부': 1, '직전': 1, '최종': 1, '프로세스': 1, '단독': 1, '시간': 1, '산차': 1, '알루미늄': 1, '비율': 1, '선착순': 1, '쇼룸': 1, '이벤트': 1, '신청': 1, '부산': 1, '대구': 1, '인천': 1, '전국': 1, '강남구': 1, '언주로': 1, '컷': 1, '배제': 1, '전자': 1, '제어': 1, '기어': 1, '기대': 1, '확산': 1, '추세': 1, '발매': 1, '표방': 1, '수석': 1, '빈축': 1, '사기': 1, '최하': 1, '게다가': 1, '싼타페': 1, '고객': 1, '유료': 1, '표': 1, '쇼케이스': 1, '정오': 1, '경': 1, '발행': 1, '문헌': 1, '데이': 1, '행사': 1, '브로셔': 1, '가격표': 1, '명시': 1, '대조': 1, '잡지': 1, '킬로미터': 1, '초로': 1, '단축': 1, '날씨': 1, '종류': 1, '구성은': 1, '계절': 1, '용인': 1, '브리지스톤': 1, '포텐자': 1, '미쉐린': 1, '파일럿': 1, '향': 1, '도장': 1, '파격': 1, '타협': 1, '최대한': 1, '다수': 1, '취향': 1, '공존': 1, '특징': 1, '주간': 1, '행등': 1, '실물': 1, '좀': 1, '측면': 1, '거의': 1, '부정': 1, '측후': 1, '여러': 1, '고민': 1, '본인': 1, '한층': 1, '강화': 1, '미리': 1, '움': 1, '가죽': 1, '최고급': 1, '편의': 1, '장비': 1, '개념': 1, '찬': 1, '일단': 1, '흠': 1, '잡': 1, '외부': 1, '자랑': 1, '상위': 1, '프레스티지': 1, '따라서': 1, '장난감': 1, '려고': 1, '후반': 1, '시판': 1, '약간': 1, '전륜구동': 1, '컴': 1, '포트': 1, '사': 1, '조금': 1, '세팅해': 1, '소프트': 1, '극찬': 1, '승': 1, '차감': 1, '코너링': 1, '인위': 1, '랜드': 1, '기용': 1, '소모품': 1, '홈투홈': 1, '서비스': 1, '횟수': 1, '차익': 1, '유류': 1, '납득': 1, '부각': 1, '쿠션': 1, '다리': 1, '일정': 1, '어필': 1, '신소리': 1, '수도': 1, '여지': 1, '벤치마킹': 1, '동안': 1, '가설': 1, '연구원': 1, '조': 1, '복합': 1, '구성원': 1, '전통': 1, '연간': 1, '확신': 1, '보수': 1, '설정': 1, '소득': 1, '적중': 1, '주문': 1, '배정': 1, '최소': 1, '역': 1, '그닥': 1, '우호': 1, '우위': 1, '중시': 1, '썩': 1, '갑지': 1, '독사': 1, '반감': 1, '비난': 1, '고스': 1, '손바닥': 1, '전부': 1, '영': 1, '대비': 1, '칭송': 1, '서로': 1, '자기': 1, '씨름': 1, '다한': 1, '편': 1, '대기': 1, '이동': 1, '금액': 1, '체제': 1, '므': 1, '분석': 1, '초점': 1, '서술': 1, '주지': 1, '중년': 1, '재미': 1, '추구': 1, '나이': 1, '실상': 1, '패션': 1, '남고': 1, '플래그': 1, '인기': 1, '본의': 1, '팀킬': 1, '달리기': 1, '컴팩트': 1, '체급': 1, '우리나라': 1, '어서': 1, '덕분': 1, '상치': 1, '약점': 1, '경향': 1, '구매력': 1, '욕심': 1, '특유': 1, '셀링': 1, '포인트': 1, '체': 1, '면적': 1, '성인': 1, '정도현': 1, '위장': 1, '사진': 1, '무렵': 1, '컨셉카': 1, '헤드라이트': 1, '과도기': 1, '역행': 1, '면서': 1, '뼈': 1, '도배': 1, '냄새': 1, '뜻': 1, '예시': 1, '겹치': 1, '외적인': 1, '대두': 1, '언어': 1, '순차': 1, '한참': 1, '당장': 1, '굳이': 1, '장애': 1, '메르세데스': 1, '링컨': 1, '이익': 1, '적': 1, '정숙': 1, '적자': 1, '음': 1, '한정판': 1, '각': 1, '별로': 1, '우선': 1, '플러그인': 1, '하이브리드': 1, '폴': 1, '역사': 1, '튜너': 1, '중론': 1, '방해': 1, '요인': 1, '무턱': 1, '대고': 1, '보더': 1, '신생': 1, '모체': 1, '뉘르부르크링': 1, '해치백': 1, '잠재': 1, '으리': 1, '상상': 1, '현': 1, '투자': 1, '미약': 1, '사지': 1, '영자': 1, '인지': 1, '이목': 1, '끌': 1, '압도': 1, '보유': 1, '경쟁력': 1, '참여': 1, '명성': 1, '발목': 1, '문제점': 1, '에쿠스': 1, '단지': 1, '귀결': 1, '계속': 1, '몫': 1, '노하우': 1, '비지': 1, '인테리어': 1, '비만': 1, '가야': 1, '싸구려': 1, '일본차': 1, '일본': 1, '고전': 1, '중인': 1, '간의': 1, '가늠': 1, '사례': 1, '측': 1, '주목': 1, '결과': 1, '성공': 1, '개월': 1, '밑도': 1, '보이': 1, '듯이': 1, '대면': 1, '틈': 1, '자리': 1, '속': 1, '비중': 1, '차고': 1, '고정관념': 1, '중형차': 1, '형성': 1, '생존': 1, '종인': 1, '불구': 1, '수립': 1, '조화': 1, '한지': 1, '얼마': 1, '걸음': 1, '기인': 1, '안목': 1, '발전': 1, '다차': 1, '제법': 1, '필적': 1, '주일': 1, '연결': 1, '최소한': 1, '박이상': 1, '친걸': 1, '대도': 1, '상기': 1, '탑': 1, '리뷰': 1, '인제스피디움': 1, '윈': 1, '맥스': 1, '보강': 1, '분': 1, '초을': 1, '튜닝': 1, '서킷': 1, '차년': 1, '트럭': 1, '코': 1, '램': 1, '도요타': 1, '닛산': 1, '혼다': 1, '회사': 1, '경쟁자': 1, '핸들링': 1, '다방면': 1, '드라이버': 1, '베스트': 1, '국제': 1, '오토쇼': 1, '상': 1, '후보': 1, '수상': 1, '울산': 1, '광역시': 1, '북구': 1, '양정동': 1, '코드네임': 1, '태도': 1, '축거윤거전': 1, '윤거후': 1, '굴림앞': 1, '굴림': 1, '변속기': 1, '형': 1, '통트': 1, '하위': 1, '풋': 1, '족': 1, '동식': 1, '공기': 1, '청정': 1, '고화질': 1, '스포크': 1, '무': 1, '안경': 1, '판이': 1, '모듈': 1, '동력': 1, '좌우': 1, '수행': 1, '다이내믹': 1, '다크': 1, '도색': 1, '회색': 1, '광택': 1, '여담': 1, '충돌': 1, '방지': 1, '명색': 1, '사항': 1, '이해': 1, '액티브': 1, '세이': 1, '프티': 1, '동일': 1, '가정': 1, '작년': 1, '신설': 1, '카본': 1, '확대': 1, '움직임': 1, '화면': 1, '디지털': 1, '키': 1, '디테': 1, '스마트': 1, '크루즈': 1, '주차': 1, '경고': 1, '후진': 1, '레인': 1, '센서': 1, '색상': 1, '본드': 1, '실버': 1, '베르비': 1, '화이트': 1, '멜버른': 1, '세도': 1, '브라운': 1, '태즈먼': 1, '블루': 1, '총': 1, '코로나바이러스': 1, '감염증': 1, '연장': 1, '시행': 1, '주력': 1, '중후': 1, '인디오': 1, '차종': 1, '사전': 1, '일주일': 1, '만대': 1, '돌파': 1, '연내': 1, '인도': 1, '적극': 1, '배포': 1, '금번': 1, '중순': 1, '본격': 1, '매체': 1, '대인': 1, '꼽았': 1, '수형': 1, '전멸': 1, '구분': 1, '국가': 1, '보트': 1, '휘발유': 1, '유출': 1, '미션': 1, '단구동': 1, '스트럿후륜': 1, '연비': 1, '탄소': 1, '배출': 1, '량': 1, '축거': 1, '번': 1, '문단': 1, '뒷쪽': 1, '금': 1, '결과물': 1, '탄생': 1, '스테이션': 1, '건가': 1, '어도': 1, '뒤쪽': 1, '패널': 1, '붙이': 1, '왜건': 1, '피해': 1, '채': 1, '정말': 1, '문자': 1, '개': 1, '욱': 1, '선방': 1, '걱정': 1, '여론': 1, '상반': 1, '캐릭터': 1, '라며': 1, '낫다': 1, '서도': 1, '범퍼': 1, '번호판': 1, '플라스틱': 1, '저렴': 1, '무슨': 1, '투입': 1, '신규': 1, '유': 1, '의미': 1, '전면': 1, '갈리': 1, '성은': 1, '거치': 1, '코드명': 1, '열': 1, '거주': 1, '명함': 1, '스타일': 1, '소문': 1, '만약': 1, '동화': 1, '끝': 1, '사랑': 1, '강세': 1, '홍수아': 1, '부탁': 1, '등장인물': 1, '고장': 1, '이채영': 1, '임시': 1, '부부': 1, '여': 1, '소희': 1, '미스': 1, '몬테': 1, '크리스': 1, '토': 1, '하라': 1, '최여진': 1, '후기': 1, '황': 1, '치숙': 1, '최희': 1, '사내': 1, '맞선': 1, '진영': 1, '이브': 1, '라엘': 1, '서예지': 1, '다모': 1, '바일': 1, '시뮬레이션': 1, '교실': 1, '다그': 1, '수록': 1, '정식': 1, '시티레이서': 1, '버프': 1, '토요타': 1, '수프': 1, '파나메라': 1, '대장': 1, '군림': 1, '첫': 1, '공': 1, '역사상': 1, '달성': 1, '효과': 1, '년말': 1, '늘': 1, '고가': 1, '대대': 1, '목전': 1, '평균': 1, '여대': 1, '캐나다': 1, '경찰청': 1, '엘리트': 1, '쉐보레': 1, '카마': 1, '교통': 1, '정체': 1, '현행범': 1, '이르렀으': 1, '속도': 1, '경찰차': 1, '경찰': 1, '운용': 1, '지방도': 1, '시내': 1, '도로': 1, '저절로': 1, '다작': 1, '탓': 1, '적지': 1, '이나': 1, '럭셔리': 1, '세그먼트': 1, '거': 1, '이로': 1, '스텔라': 1, '방계': 1, '후손': 1, '격': 1, '중반': 1, '네이버': 1, '블로그': 1, '카페': 1, '보배드림': 1, '확률': 1, '확정': 1, '기획': 1, '잠정': 1, '의문': 1, '토의': 1, '향후': 1, '전기차': 1, '헤일로': 1, '모트': 1, '외': 1, '해명': 1, '반석': 1, '고로': 1, '비용': 1, '피': 1, '욕': 1, '구상': 1, '관계자': 1, '무엇': 1, '잠깐': 1, '기차': 1, '주제': 1, '그게': 1, '악재': 1, '비정상': 1, '점등': 1, '무료': 1, '수리': 1, '안내': 1, '서면': 1, '발송': 1, '마이너': 1, '듯년': 1, '동년': 1, '접착': 1, '이탈': 1, '자발': 1, '브렘': 1, '제동': 1, '페달': 1, '자주': 1, '이내': 1, '하체': 1, '통상': 1, '런': 1, '아웃': 1, '변형': 1, '휘': 1, '런아웃': 1, '의견': 1, '널리': 1, '장기간': 1, '솔리드': 1, '거나': 1, '부하': 1, '물': 1, '퀜칭': 1, '극단': 1, '리턴': 1, '플로': 1, '주로': 1, '즉': 1, '직경': 1, '열용량': 1, '소음': 1, '분진': 1, '유기물': 1, '작동': 1, '뒷받침': 1, '지정': 1, '금지': 1, '구해': 1, '먼저': 1, '생기': 1, '세트': 1, '수입품': 1, '대신': 1, '초반': 1, '직구': 1, '스톱': 1, '텍': 1, '호크': 1, '금강': 1, '에어': 1, '억제': 1, '자금': 1, '방열': 1, '피스': 1, '웨이': 1, '공통': 1, '회전': 1, '방향': 1, '균일': 1, '외측': 1, '정비': 1, '현장': 1, '애호가': 1, '지침': 1, '오장': 1, '착': 1, '심화': 1, '종종': 1, '몬터레이': 1, '연상': 1, '상징': 1, '황동': 1, '색': 1, '매트릭스': 1, '가미': 1, '리버': 1, '리가': 1, '알파': 1, '로메': 1, '오': 1, '줄리아': 1, '목록': 1, '콘셉트': 1, '반드시': 1})\n",
      "Counter({'제네시스': 57, '브랜드': 46, '스팅어': 44, '모델': 42, '차량': 42, '스포츠': 26, '경우': 26, '브레이크': 24, '자동차': 23, '옵션': 22, '트림': 21, '디자인': 20, '가격': 20, '현대': 20, '패드': 20, '문제': 19, '적용': 19, '성능': 19, '좌석': 19, '프리미엄': 16, '출시': 16, '터보': 15, '만원': 15, '가치': 15, '디스크': 15, '이미지': 14, '엔진': 14, '파워': 14, '시리즈': 14, '등장': 14, '고성능': 14, '추가': 13, '기존': 13, '디젤': 12, '때문': 12, '사용': 12, '고급': 12, '변경': 12, '정도': 12, '가성': 12, '시장': 12, '렉서스': 12, '페이스': 12, '북미': 12, '부분': 11, '실내': 11, '판매': 11, '순정': 11, '개발': 11, '리프트': 11, '로터': 11, '방식': 10, '달리': 10, '현대차': 10, '차이': 10, '또한': 10, '서스펜션': 10, '윈도우': 10, '기능': 10, '사실': 10, '공간': 10, '세단': 10, '세대': 10, '삽입': 9, '공개': 9, '중형': 9, '플랫폼': 9, '크기': 9, '다년': 9, '기본': 9, '이후': 9, '브렘보': 9, '리퍼': 9, '수준': 9, '실제': 9, '판매량': 9, '쿠페': 9, '실적': 9, '사양': 9, '젠쿱': 9, '싱글': 8, '가솔린': 8, '오히려': 8, '모습': 8, '차체': 8, '위치': 8, '터치': 8, '테스트': 8, '인치': 8, '아반떼': 8, '기아': 8, '국내': 8, '아우디': 8, '대한민국': 8, '트레인': 7, '컨셉': 7, '매우': 7, '대가': 7, '소재': 7, '선택': 7, '차별': 7, '이름': 7, '모든': 7, '주행': 7, '클래스': 7, '후륜': 7, '기반': 7, '소비자': 7, '그랜저': 7, '이상': 7, '이유': 7, '최초': 7, '계약': 7, '올해': 7, '마모': 7, '디케이터': 7, '정보': 6, '루머': 6, '진행': 6, '자체': 6, '트렁크': 6, '패키지': 6, '위해': 6, '제로': 6, '기자': 6, '출고': 6, '타이어': 6, '다른': 6, '국산': 6, '최고': 6, '현재': 6, '기간': 6, '등급': 6, '사람': 6, '패밀리': 6, '가능성': 6, '모두': 6, '캐딜락': 6, '드라마': 6, '발생': 6, '관련': 5, '기타': 5, '설명': 5, '뉴욕': 5, '초기': 5, '장치': 5, '삭제': 5, '운전': 5, '다만': 5, '미디어': 5, '링크': 5, '사이즈': 5, '평이': 5, '크게': 5, '제대로': 5, '생각': 5, '대응': 5, '마력': 5, '스펙': 5, '모드': 5, '상황': 5, '역시': 5, '내용': 5, '가장': 5, '후속': 5, '단종': 5, '대중': 5, '마찬가지': 5, '선정': 5, '생산': 5, '자동': 5, '그대로': 5, '유리창': 5, '날짜': 4, '저작자': 4, '저작권': 4, '라인업': 4, '자동변속기': 4, '예정': 4, '미국': 4, '공유': 4, '모터': 4, '기준': 4, '가량': 4, '배기량': 4, '채택': 4, '단점': 4, '지향': 4, '연식': 4, '독일': 4, '일부': 4, '언급': 4, '장기': 4, '형식': 4, '위시': 4, '램프': 4, '요소': 4, '하나': 4, '후미': 4, '메탈': 4, '한국': 4, '벤츠': 4, '비교': 4, '교환': 4, '체인지': 4, '이야기': 4, '포함': 4, '세계': 4, '목표': 4, '공략': 4, '신차': 4, '그룹': 4, '예상': 4, '구매': 4, '비판': 4, '다소': 4, '차별성': 4, '가지': 4, '신경': 4, '출력': 4, '직렬': 4, '내비게이션': 4, '원인': 4, '게임': 4, '사용설명서': 4, '해당': 4, '현상': 4, '대형': 4, '출처': 3, '트윈': 3, '존재': 3, '실루엣': 3, '자식': 3, '장착': 3, '라면': 3, '조작': 3, '깡통': 3, '외관': 3, '공식': 3, '아예': 3, '기사': 3, '당시': 3, '주변': 3, '영향': 3, '전장': 3, '현행': 3, '형제': 3, '전륜': 3, '듀얼링크': 3, '맥퍼슨': 3, '더블': 3, '멀티': 3, '은색': 3, '구입': 3, '성향': 3, '차라': 3, '결정': 3, '규제': 3, '대표': 3, '토크': 3, '얼마나': 3, '지적': 3, '상품': 3, '사고': 3, '이전': 3, '시트': 3, '대한': 3, '장진': 3, '더욱': 3, '커뮤니티': 3, '여기': 3, '평가': 3, '인식': 3, '작용': 3, '모양': 3, '고유': 3, '동시': 3, '그동안': 3, '소위': 3, '편이': 3, '감안': 3, '타겟': 3, '애초': 3, '전체': 3, '남성': 3, '유발': 3, '부족': 3, '제기': 3, '오해': 3, '아이덴티티': 3, '과정': 3, '분리': 3, '통해': 3, '볼보': 3, '향상': 3, '안전': 3, '기술': 3, '레이스': 3, '메르세데스벤츠': 3, '해결': 3, '상태': 3, '지금': 3, '차로': 3, '강조': 3, '교체': 3, '기록': 3, '공차': 3, '용량': 3, '전용': 3, '컨트롤': 3, '투라': 3, '유지': 3, '전기': 3, '최근': 3, '슈팅': 3, '대부분': 3, '암행': 3, '유리': 3, '두께': 3, '표면': 3, '세미': 3, '요기': 2, '우리': 2, '양산': 2, '단계': 2, '발표': 2, '스튜디오': 2, '상의': 2, '전혀': 2, '형상': 2, '만큼': 2, '프라이': 2, '관람': 2, '서울': 2, '성품': 2, '전동': 2, '시스템': 2, '스티': 2, '상급': 2, '제공': 2, '한편': 2, '심지어': 2, '완전': 2, '리터': 2, '트윈터보': 2, '자료': 2, '이기': 2, '환경': 2, '스트럿': 2, '여름': 2, '피스톤': 2, '빨간색': 2, '무난': 2, '대체로': 2, '헤드': 2, '반면': 2, '대해': 2, '의식': 2, '유로': 2, '처음': 2, '호평': 2, '구성': 2, '한정': 2, '수치': 2, '트랙': 2, '수입': 2, '원대': 2, '후륜구동': 2, '과감': 2, '트렌드': 2, '수출': 2, '특성': 2, '차라리': 2, '고려': 2, '아래': 2, '높이': 2, '포지션': 2, '여유': 2, '소형차': 2, '얘기': 2, '대상': 2, '상대': 2, '오토': 2, '의자': 2, '동호회': 2, '기도': 2, '문화': 2, '각인': 2, '보편': 2, '주장': 2, '지형': 2, '직후': 2, '최대': 2, '엔트리': 2, '소리': 2, '수요': 2, '앞서': 2, '로써': 2, '경쟁': 2, '성도': 2, '시기': 2, '홍보': 2, '이건': 2, '일반': 2, '여성': 2, '패턴': 2, '그릴': 2, '상당': 2, '반응': 2, '부품': 2, '정작': 2, '화가': 2, '논란': 2, '길이': 2, '초고': 2, '라인': 2, '사의': 2, '계획': 2, '스포츠카': 2, '로서': 2, '스타': 2, '부재': 2, '항목': 2, '부터': 2, '모터스포츠': 2, '이제': 2, '참가': 2, '거리': 2, '검증': 2, '무시': 2, '판단': 2, '레이싱': 2, '입증': 2, '해외': 2, '필요': 2, '딜러': 2, '방법': 2, '한계': 2, '출범': 2, '버전': 2, '노력': 2, '아큐라': 2, '인피니티': 2, '전략': 2, '그것': 2, '반대': 2, '소수': 2, '대의': 2, '제외': 2, '대년': 2, '원문': 2, '번역': 2, '쾌거': 2, '년도': 2, '재규어': 2, '승차': 2, '인원': 2, '전고': 2, '중량': 2, '연료': 2, '탱크': 2, '바퀴': 2, '현가': 2, '제동장치': 2, '벤틸': 2, '레이티': 2, '세타': 2, '수동변속기': 2, '람다': 2, '윈터': 2, '파킹': 2, '사운드': 2, '하운드': 2, '계기': 2, '전후': 2, '배분': 2, '그레이': 2, '그냥': 2, '전방': 2, '보조': 2, '시작': 2, '인하': 2, '얼티밋': 2, '편입': 2, '지원': 2, '일이': 2, '가이드': 2, '가의': 2, '별도': 2, '저조': 2, '접기': 2, '참고': 2, '수정': 2, '밸런스': 2, '호불호': 2, '필러': 2, '넣기': 2, '조기': 2, '구형': 2, '개선': 2, '바로': 2, '저녁': 2, '일일': 2, '상미': 2, '투리스모': 2, '라이센스': 2, '포르쉐': 2, '하반기': 2, '준중형차': 2, '대략': 2, '업데이트': 2, '순찰차': 2, '도입': 2, '고속도로': 2, '시속': 2, '검거': 2, '순찰': 2, '다음': 2, '프로젝트': 2, '도어': 2, '발견': 2, '추정': 2, '취소': 2, '콘셉트카': 2, '원격': 2, '대하': 2, '원가': 2, '절감': 2, '편집': 2, '오류': 2, '결함': 2, '이슈': 2, '고속': 2, '리콜': 2, '변동': 2, '변화': 2, '고정식': 2, '온도': 2, '상승': 2, '점착': 2, '퍼포먼스': 2, '보고': 2, '보증': 2, '사업': 2, '소나': 2, '블루핸즈': 2, '페로': 2, '조합': 2, '제품': 2, '간섭': 2, '정석': 2, '그다지': 2, '근본': 1, '독창': 1, '주요': 1, '후륜용': 1, '반영': 1, '내부': 1, '직전': 1, '최종': 1, '프로세스': 1, '단독': 1, '시간': 1, '산차': 1, '알루미늄': 1, '비율': 1, '선착순': 1, '쇼룸': 1, '이벤트': 1, '신청': 1, '부산': 1, '대구': 1, '인천': 1, '전국': 1, '강남구': 1, '언주로': 1, '배제': 1, '전자': 1, '제어': 1, '기어': 1, '기대': 1, '확산': 1, '추세': 1, '발매': 1, '표방': 1, '수석': 1, '빈축': 1, '사기': 1, '최하': 1, '게다가': 1, '싼타페': 1, '고객': 1, '유료': 1, '쇼케이스': 1, '정오': 1, '발행': 1, '문헌': 1, '데이': 1, '행사': 1, '브로셔': 1, '가격표': 1, '명시': 1, '대조': 1, '잡지': 1, '킬로미터': 1, '초로': 1, '단축': 1, '날씨': 1, '종류': 1, '구성은': 1, '계절': 1, '용인': 1, '브리지스톤': 1, '포텐자': 1, '미쉐린': 1, '파일럿': 1, '도장': 1, '파격': 1, '타협': 1, '최대한': 1, '다수': 1, '취향': 1, '공존': 1, '특징': 1, '주간': 1, '행등': 1, '실물': 1, '측면': 1, '거의': 1, '부정': 1, '측후': 1, '여러': 1, '고민': 1, '본인': 1, '한층': 1, '강화': 1, '미리': 1, '가죽': 1, '최고급': 1, '편의': 1, '장비': 1, '개념': 1, '일단': 1, '외부': 1, '자랑': 1, '상위': 1, '프레스티지': 1, '따라서': 1, '장난감': 1, '려고': 1, '후반': 1, '시판': 1, '약간': 1, '전륜구동': 1, '포트': 1, '조금': 1, '세팅해': 1, '소프트': 1, '극찬': 1, '차감': 1, '코너링': 1, '인위': 1, '랜드': 1, '기용': 1, '소모품': 1, '홈투홈': 1, '서비스': 1, '횟수': 1, '차익': 1, '유류': 1, '납득': 1, '부각': 1, '쿠션': 1, '다리': 1, '일정': 1, '어필': 1, '신소리': 1, '수도': 1, '여지': 1, '벤치마킹': 1, '동안': 1, '가설': 1, '연구원': 1, '복합': 1, '구성원': 1, '전통': 1, '연간': 1, '확신': 1, '보수': 1, '설정': 1, '소득': 1, '적중': 1, '주문': 1, '배정': 1, '최소': 1, '그닥': 1, '우호': 1, '우위': 1, '중시': 1, '갑지': 1, '독사': 1, '반감': 1, '비난': 1, '고스': 1, '손바닥': 1, '전부': 1, '대비': 1, '칭송': 1, '서로': 1, '자기': 1, '씨름': 1, '다한': 1, '대기': 1, '이동': 1, '금액': 1, '체제': 1, '분석': 1, '초점': 1, '서술': 1, '주지': 1, '중년': 1, '재미': 1, '추구': 1, '나이': 1, '실상': 1, '패션': 1, '남고': 1, '플래그': 1, '인기': 1, '본의': 1, '팀킬': 1, '달리기': 1, '컴팩트': 1, '체급': 1, '우리나라': 1, '어서': 1, '덕분': 1, '상치': 1, '약점': 1, '경향': 1, '구매력': 1, '욕심': 1, '특유': 1, '셀링': 1, '포인트': 1, '면적': 1, '성인': 1, '정도현': 1, '위장': 1, '사진': 1, '무렵': 1, '컨셉카': 1, '헤드라이트': 1, '과도기': 1, '역행': 1, '면서': 1, '도배': 1, '냄새': 1, '예시': 1, '겹치': 1, '외적인': 1, '대두': 1, '언어': 1, '순차': 1, '한참': 1, '당장': 1, '굳이': 1, '장애': 1, '메르세데스': 1, '링컨': 1, '이익': 1, '정숙': 1, '적자': 1, '한정판': 1, '별로': 1, '우선': 1, '플러그인': 1, '하이브리드': 1, '역사': 1, '튜너': 1, '중론': 1, '방해': 1, '요인': 1, '무턱': 1, '대고': 1, '보더': 1, '신생': 1, '모체': 1, '뉘르부르크링': 1, '해치백': 1, '잠재': 1, '으리': 1, '상상': 1, '투자': 1, '미약': 1, '사지': 1, '영자': 1, '인지': 1, '이목': 1, '압도': 1, '보유': 1, '경쟁력': 1, '참여': 1, '명성': 1, '발목': 1, '문제점': 1, '에쿠스': 1, '단지': 1, '귀결': 1, '계속': 1, '노하우': 1, '비지': 1, '인테리어': 1, '비만': 1, '가야': 1, '싸구려': 1, '일본차': 1, '일본': 1, '고전': 1, '중인': 1, '간의': 1, '가늠': 1, '사례': 1, '주목': 1, '결과': 1, '성공': 1, '개월': 1, '밑도': 1, '보이': 1, '듯이': 1, '대면': 1, '자리': 1, '비중': 1, '차고': 1, '고정관념': 1, '중형차': 1, '형성': 1, '생존': 1, '종인': 1, '불구': 1, '수립': 1, '조화': 1, '한지': 1, '얼마': 1, '걸음': 1, '기인': 1, '안목': 1, '발전': 1, '다차': 1, '제법': 1, '필적': 1, '주일': 1, '연결': 1, '최소한': 1, '박이상': 1, '친걸': 1, '대도': 1, '상기': 1, '리뷰': 1, '인제스피디움': 1, '맥스': 1, '보강': 1, '초을': 1, '튜닝': 1, '서킷': 1, '차년': 1, '트럭': 1, '도요타': 1, '닛산': 1, '혼다': 1, '회사': 1, '경쟁자': 1, '핸들링': 1, '다방면': 1, '드라이버': 1, '베스트': 1, '국제': 1, '오토쇼': 1, '후보': 1, '수상': 1, '울산': 1, '광역시': 1, '북구': 1, '양정동': 1, '코드네임': 1, '태도': 1, '축거윤거전': 1, '윤거후': 1, '굴림앞': 1, '굴림': 1, '변속기': 1, '통트': 1, '하위': 1, '동식': 1, '공기': 1, '청정': 1, '고화질': 1, '스포크': 1, '안경': 1, '판이': 1, '모듈': 1, '동력': 1, '좌우': 1, '수행': 1, '다이내믹': 1, '다크': 1, '도색': 1, '회색': 1, '광택': 1, '여담': 1, '충돌': 1, '방지': 1, '명색': 1, '사항': 1, '이해': 1, '액티브': 1, '세이': 1, '프티': 1, '동일': 1, '가정': 1, '작년': 1, '신설': 1, '카본': 1, '확대': 1, '움직임': 1, '화면': 1, '디지털': 1, '디테': 1, '스마트': 1, '크루즈': 1, '주차': 1, '경고': 1, '후진': 1, '레인': 1, '센서': 1, '색상': 1, '본드': 1, '실버': 1, '베르비': 1, '화이트': 1, '멜버른': 1, '세도': 1, '브라운': 1, '태즈먼': 1, '블루': 1, '코로나바이러스': 1, '감염증': 1, '연장': 1, '시행': 1, '주력': 1, '중후': 1, '인디오': 1, '차종': 1, '사전': 1, '일주일': 1, '만대': 1, '돌파': 1, '연내': 1, '인도': 1, '적극': 1, '배포': 1, '금번': 1, '중순': 1, '본격': 1, '매체': 1, '대인': 1, '꼽았': 1, '수형': 1, '전멸': 1, '구분': 1, '국가': 1, '보트': 1, '휘발유': 1, '유출': 1, '미션': 1, '단구동': 1, '스트럿후륜': 1, '연비': 1, '탄소': 1, '배출': 1, '축거': 1, '문단': 1, '뒷쪽': 1, '결과물': 1, '탄생': 1, '스테이션': 1, '건가': 1, '어도': 1, '뒤쪽': 1, '패널': 1, '붙이': 1, '왜건': 1, '피해': 1, '정말': 1, '문자': 1, '선방': 1, '걱정': 1, '여론': 1, '상반': 1, '캐릭터': 1, '라며': 1, '낫다': 1, '서도': 1, '범퍼': 1, '번호판': 1, '플라스틱': 1, '저렴': 1, '무슨': 1, '투입': 1, '신규': 1, '의미': 1, '전면': 1, '갈리': 1, '성은': 1, '거치': 1, '코드명': 1, '거주': 1, '명함': 1, '스타일': 1, '소문': 1, '만약': 1, '동화': 1, '사랑': 1, '강세': 1, '홍수아': 1, '부탁': 1, '등장인물': 1, '고장': 1, '이채영': 1, '임시': 1, '부부': 1, '소희': 1, '미스': 1, '몬테': 1, '크리스': 1, '하라': 1, '최여진': 1, '후기': 1, '치숙': 1, '최희': 1, '사내': 1, '맞선': 1, '진영': 1, '이브': 1, '라엘': 1, '서예지': 1, '다모': 1, '바일': 1, '시뮬레이션': 1, '교실': 1, '다그': 1, '수록': 1, '정식': 1, '시티레이서': 1, '버프': 1, '토요타': 1, '수프': 1, '파나메라': 1, '대장': 1, '군림': 1, '역사상': 1, '달성': 1, '효과': 1, '년말': 1, '고가': 1, '대대': 1, '목전': 1, '평균': 1, '여대': 1, '캐나다': 1, '경찰청': 1, '엘리트': 1, '쉐보레': 1, '카마': 1, '교통': 1, '정체': 1, '현행범': 1, '이르렀으': 1, '속도': 1, '경찰차': 1, '경찰': 1, '운용': 1, '지방도': 1, '시내': 1, '도로': 1, '저절로': 1, '다작': 1, '적지': 1, '이나': 1, '럭셔리': 1, '세그먼트': 1, '이로': 1, '스텔라': 1, '방계': 1, '후손': 1, '중반': 1, '네이버': 1, '블로그': 1, '카페': 1, '보배드림': 1, '확률': 1, '확정': 1, '기획': 1, '잠정': 1, '의문': 1, '토의': 1, '향후': 1, '전기차': 1, '헤일로': 1, '모트': 1, '해명': 1, '반석': 1, '고로': 1, '비용': 1, '구상': 1, '관계자': 1, '무엇': 1, '잠깐': 1, '기차': 1, '주제': 1, '그게': 1, '악재': 1, '비정상': 1, '점등': 1, '무료': 1, '수리': 1, '안내': 1, '서면': 1, '발송': 1, '마이너': 1, '듯년': 1, '동년': 1, '접착': 1, '이탈': 1, '자발': 1, '브렘': 1, '제동': 1, '페달': 1, '자주': 1, '이내': 1, '하체': 1, '통상': 1, '아웃': 1, '변형': 1, '런아웃': 1, '의견': 1, '널리': 1, '장기간': 1, '솔리드': 1, '거나': 1, '부하': 1, '퀜칭': 1, '극단': 1, '리턴': 1, '플로': 1, '주로': 1, '직경': 1, '열용량': 1, '소음': 1, '분진': 1, '유기물': 1, '작동': 1, '뒷받침': 1, '지정': 1, '금지': 1, '구해': 1, '먼저': 1, '생기': 1, '세트': 1, '수입품': 1, '대신': 1, '초반': 1, '직구': 1, '스톱': 1, '호크': 1, '금강': 1, '에어': 1, '억제': 1, '자금': 1, '방열': 1, '피스': 1, '웨이': 1, '공통': 1, '회전': 1, '방향': 1, '균일': 1, '외측': 1, '정비': 1, '현장': 1, '애호가': 1, '지침': 1, '오장': 1, '심화': 1, '종종': 1, '몬터레이': 1, '연상': 1, '상징': 1, '황동': 1, '매트릭스': 1, '가미': 1, '리버': 1, '리가': 1, '알파': 1, '로메': 1, '줄리아': 1, '목록': 1, '콘셉트': 1, '반드시': 1})\n"
     ]
    }
   ],
   "source": [
    "nouns_tagger = Okt()\n",
    "nouns = nouns_tagger.nouns(content_corpus)\n",
    "count = Counter(nouns)\n",
    "print(count)\n",
    "remove_char_counter=Counter({x : count[x] for x in count if len(x)>1})\n",
    "print(remove_char_counter)"
   ]
  }
 ],
 "metadata": {
  "kernelspec": {
   "display_name": "Python 3.10.8 64-bit",
   "language": "python",
   "name": "python3"
  },
  "language_info": {
   "codemirror_mode": {
    "name": "ipython",
    "version": 3
   },
   "file_extension": ".py",
   "mimetype": "text/x-python",
   "name": "python",
   "nbconvert_exporter": "python",
   "pygments_lexer": "ipython3",
   "version": "3.10.8"
  },
  "orig_nbformat": 4,
  "vscode": {
   "interpreter": {
    "hash": "8070abc879b547d648634b66dafec4a57643d094ec5a9be6cb583db0cfff3cb9"
   }
  }
 },
 "nbformat": 4,
 "nbformat_minor": 2
}
