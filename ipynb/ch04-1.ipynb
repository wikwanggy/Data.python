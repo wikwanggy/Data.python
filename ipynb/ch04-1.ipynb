{
 "cells": [
  {
   "cell_type": "markdown",
   "metadata": {},
   "source": [
    "# 4.1) 타이타닉호의 생존자 가려내기"
   ]
  },
  {
   "cell_type": "markdown",
   "metadata": {},
   "source": [
    "### 바로가기"
   ]
  },
  {
   "cell_type": "markdown",
   "metadata": {},
   "source": [
    "-----"
   ]
  },
  {
   "cell_type": "markdown",
   "metadata": {},
   "source": [
    "# <Step1. 탐색> : Titanic 데이터 살펴보기"
   ]
  },
  {
   "cell_type": "markdown",
   "metadata": {},
   "source": [
    "### [Titanic 데이터셋의 기본 정보]"
   ]
  },
  {
   "cell_type": "markdown",
   "metadata": {},
   "source": [
    "# 4.1) 타이타닉호의 생존자 가려내기"
   ]
  },
  {
   "cell_type": "markdown",
   "metadata": {},
   "source": [
    "### 바로가기"
   ]
  },
  {
   "cell_type": "markdown",
   "metadata": {},
   "source": [
    "- [<Step1. 탐색> : Titanic 데이터 살펴보기](#<Step1.-탐색>-:-Titanic-데이터-살펴보기)\n",
    "    - [Titanic 데이터셋의 기본 정보]\n",
    "    - [탐색적 데이터 분석]\n",
    "- [<Step2. 분류> : 생존자 분류 모델 만들기](#<Step2.-분류>-:-생존자-분류-모델-만들기)\n",
    "    - [분류 모델을 위한 전처리]\n",
    "    - [분류 모델링]\n",
    "- [<Step3. 모델 개선> : 피처 엔지니어링 첫걸음](#<Step3.-모델-개선>-:-피처-엔지니어링-첫걸음)\n",
    "    - [피처에서 새로운 의미 추출해내기]\n",
    "    - [피처 스케일링]\n",
    "    - [피처 영향력 살펴보기]\n",
    "- [<Step4. 평가> : 모델 검증하기](#<Step4.-평가>-:-모델-검증하기)\n",
    "    - [K-fold 교차 검증 수행하기]\n",
    "    - [학습 곡선 분석하기]"
   ]
  },
  {
   "cell_type": "markdown",
   "metadata": {},
   "source": [
    "-----"
   ]
  },
  {
   "cell_type": "code",
   "execution_count": 5,
   "metadata": {},
   "outputs": [],
   "source": [
    "# -*- coding: utf-8 -*-\n",
    "\n",
    "%matplotlib inline\n",
    "\n",
    "import pandas as pd\n",
    "import numpy as np\n",
    "import matplotlib.pyplot as plt\n",
    "import seaborn as sns\n",
    "\n",
    "import warnings\n",
    "warnings.filterwarnings(\"ignore\")"
   ]
  },
  {
   "cell_type": "markdown",
   "metadata": {},
   "source": [
    "# <Step1. 탐색> : Titanic 데이터 살펴보기"
   ]
  },
  {
   "cell_type": "markdown",
   "metadata": {},
   "source": [
    "### [Titanic 데이터셋의 기본 정보]"
   ]
  },
  {
   "cell_type": "markdown",
   "metadata": {},
   "source": [
    "##### 데이터 피처 설명\n",
    "- pclass : Passenger Class, 승객 등급\n",
    "- survived : 생존 여부\n",
    "- name : 승객 이름\n",
    "- sex : 승객 성별\n",
    "- age : 승객 나이\n",
    "- sibsp : 탑승 한 형제/배우자 수\n",
    "- parch : 탑승 한 부모/자녀 수\n",
    "- ticket : 티켓 번호\n",
    "- fare : 승객 지불 요금\n",
    "- cabin : 선실 이름\n",
    "- embarked : 승선항 (C = 쉘 부르그, Q = 퀸즈타운, S = 사우스 햄튼)\n",
    "- body : 사망자 확인 번호\n",
    "- home.dest : 고향/목적지"
   ]
  },
  {
   "cell_type": "code",
   "execution_count": 6,
   "metadata": {},
   "outputs": [
    {
     "data": {
      "text/html": [
       "<div>\n",
       "<style scoped>\n",
       "    .dataframe tbody tr th:only-of-type {\n",
       "        vertical-align: middle;\n",
       "    }\n",
       "\n",
       "    .dataframe tbody tr th {\n",
       "        vertical-align: top;\n",
       "    }\n",
       "\n",
       "    .dataframe thead th {\n",
       "        text-align: right;\n",
       "    }\n",
       "</style>\n",
       "<table border=\"1\" class=\"dataframe\">\n",
       "  <thead>\n",
       "    <tr style=\"text-align: right;\">\n",
       "      <th></th>\n",
       "      <th>pclass</th>\n",
       "      <th>survived</th>\n",
       "      <th>name</th>\n",
       "      <th>sex</th>\n",
       "      <th>age</th>\n",
       "      <th>sibsp</th>\n",
       "      <th>parch</th>\n",
       "      <th>ticket</th>\n",
       "      <th>fare</th>\n",
       "      <th>cabin</th>\n",
       "      <th>embarked</th>\n",
       "      <th>body</th>\n",
       "      <th>home.dest</th>\n",
       "    </tr>\n",
       "  </thead>\n",
       "  <tbody>\n",
       "    <tr>\n",
       "      <th>0</th>\n",
       "      <td>2</td>\n",
       "      <td>1</td>\n",
       "      <td>Mellinger, Miss. Madeleine Violet</td>\n",
       "      <td>female</td>\n",
       "      <td>13.0</td>\n",
       "      <td>0</td>\n",
       "      <td>1</td>\n",
       "      <td>250644</td>\n",
       "      <td>19.5000</td>\n",
       "      <td>NaN</td>\n",
       "      <td>S</td>\n",
       "      <td>NaN</td>\n",
       "      <td>England / Bennington, VT</td>\n",
       "    </tr>\n",
       "    <tr>\n",
       "      <th>1</th>\n",
       "      <td>2</td>\n",
       "      <td>1</td>\n",
       "      <td>Wells, Miss. Joan</td>\n",
       "      <td>female</td>\n",
       "      <td>4.0</td>\n",
       "      <td>1</td>\n",
       "      <td>1</td>\n",
       "      <td>29103</td>\n",
       "      <td>23.0000</td>\n",
       "      <td>NaN</td>\n",
       "      <td>S</td>\n",
       "      <td>NaN</td>\n",
       "      <td>Cornwall / Akron, OH</td>\n",
       "    </tr>\n",
       "    <tr>\n",
       "      <th>2</th>\n",
       "      <td>2</td>\n",
       "      <td>1</td>\n",
       "      <td>Duran y More, Miss. Florentina</td>\n",
       "      <td>female</td>\n",
       "      <td>30.0</td>\n",
       "      <td>1</td>\n",
       "      <td>0</td>\n",
       "      <td>SC/PARIS 2148</td>\n",
       "      <td>13.8583</td>\n",
       "      <td>NaN</td>\n",
       "      <td>C</td>\n",
       "      <td>NaN</td>\n",
       "      <td>Barcelona, Spain / Havana, Cuba</td>\n",
       "    </tr>\n",
       "    <tr>\n",
       "      <th>3</th>\n",
       "      <td>3</td>\n",
       "      <td>0</td>\n",
       "      <td>Scanlan, Mr. James</td>\n",
       "      <td>male</td>\n",
       "      <td>NaN</td>\n",
       "      <td>0</td>\n",
       "      <td>0</td>\n",
       "      <td>36209</td>\n",
       "      <td>7.7250</td>\n",
       "      <td>NaN</td>\n",
       "      <td>Q</td>\n",
       "      <td>NaN</td>\n",
       "      <td>NaN</td>\n",
       "    </tr>\n",
       "    <tr>\n",
       "      <th>4</th>\n",
       "      <td>3</td>\n",
       "      <td>1</td>\n",
       "      <td>Bradley, Miss. Bridget Delia</td>\n",
       "      <td>female</td>\n",
       "      <td>22.0</td>\n",
       "      <td>0</td>\n",
       "      <td>0</td>\n",
       "      <td>334914</td>\n",
       "      <td>7.7250</td>\n",
       "      <td>NaN</td>\n",
       "      <td>Q</td>\n",
       "      <td>NaN</td>\n",
       "      <td>Kingwilliamstown, Co Cork, Ireland Glens Falls...</td>\n",
       "    </tr>\n",
       "  </tbody>\n",
       "</table>\n",
       "</div>"
      ],
      "text/plain": [
       "   pclass  survived                               name     sex   age  sibsp  \\\n",
       "0       2         1  Mellinger, Miss. Madeleine Violet  female  13.0      0   \n",
       "1       2         1                  Wells, Miss. Joan  female   4.0      1   \n",
       "2       2         1     Duran y More, Miss. Florentina  female  30.0      1   \n",
       "3       3         0                 Scanlan, Mr. James    male   NaN      0   \n",
       "4       3         1       Bradley, Miss. Bridget Delia  female  22.0      0   \n",
       "\n",
       "   parch         ticket     fare cabin embarked  body  \\\n",
       "0      1         250644  19.5000   NaN        S   NaN   \n",
       "1      1          29103  23.0000   NaN        S   NaN   \n",
       "2      0  SC/PARIS 2148  13.8583   NaN        C   NaN   \n",
       "3      0          36209   7.7250   NaN        Q   NaN   \n",
       "4      0         334914   7.7250   NaN        Q   NaN   \n",
       "\n",
       "                                           home.dest  \n",
       "0                           England / Bennington, VT  \n",
       "1                               Cornwall / Akron, OH  \n",
       "2                    Barcelona, Spain / Havana, Cuba  \n",
       "3                                                NaN  \n",
       "4  Kingwilliamstown, Co Cork, Ireland Glens Falls...  "
      ]
     },
     "execution_count": 6,
     "metadata": {},
     "output_type": "execute_result"
    }
   ],
   "source": [
    "df_train = pd.read_csv(\"../python-data-analysis-master/data/titanic_train.csv\")\n",
    "df_test = pd.read_csv(\"../python-data-analysis-master/data/titanic_test.csv\")\n",
    "df_train.head(5)"
   ]
  },
  {
   "cell_type": "code",
   "execution_count": 7,
   "metadata": {},
   "outputs": [
    {
     "name": "stdout",
     "output_type": "stream",
     "text": [
      "<class 'pandas.core.frame.DataFrame'>\n",
      "RangeIndex: 916 entries, 0 to 915\n",
      "Data columns (total 13 columns):\n",
      " #   Column     Non-Null Count  Dtype  \n",
      "---  ------     --------------  -----  \n",
      " 0   pclass     916 non-null    int64  \n",
      " 1   survived   916 non-null    int64  \n",
      " 2   name       916 non-null    object \n",
      " 3   sex        916 non-null    object \n",
      " 4   age        741 non-null    float64\n",
      " 5   sibsp      916 non-null    int64  \n",
      " 6   parch      916 non-null    int64  \n",
      " 7   ticket     916 non-null    object \n",
      " 8   fare       916 non-null    float64\n",
      " 9   cabin      214 non-null    object \n",
      " 10  embarked   914 non-null    object \n",
      " 11  body       85 non-null     float64\n",
      " 12  home.dest  527 non-null    object \n",
      "dtypes: float64(3), int64(4), object(6)\n",
      "memory usage: 93.2+ KB\n",
      "None\n",
      "-----------------\n",
      "<class 'pandas.core.frame.DataFrame'>\n",
      "RangeIndex: 393 entries, 0 to 392\n",
      "Data columns (total 13 columns):\n",
      " #   Column     Non-Null Count  Dtype  \n",
      "---  ------     --------------  -----  \n",
      " 0   pclass     393 non-null    int64  \n",
      " 1   survived   393 non-null    int64  \n",
      " 2   name       393 non-null    object \n",
      " 3   sex        393 non-null    object \n",
      " 4   age        305 non-null    float64\n",
      " 5   sibsp      393 non-null    int64  \n",
      " 6   parch      393 non-null    int64  \n",
      " 7   ticket     393 non-null    object \n",
      " 8   fare       393 non-null    float64\n",
      " 9   cabin      81 non-null     object \n",
      " 10  embarked   393 non-null    object \n",
      " 11  body       36 non-null     float64\n",
      " 12  home.dest  218 non-null    object \n",
      "dtypes: float64(3), int64(4), object(6)\n",
      "memory usage: 40.0+ KB\n",
      "None\n"
     ]
    }
   ],
   "source": [
    "print(df_train.info())\n",
    "print(\"-----------------\")\n",
    "print(df_test.info())"
   ]
  },
  {
   "cell_type": "markdown",
   "metadata": {},
   "source": [
    "##### 불필요한 피처 제거"
   ]
  },
  {
   "cell_type": "code",
   "execution_count": 8,
   "metadata": {},
   "outputs": [],
   "source": [
    "# 데이터셋에서 name, ticket, body, cabin, home.dest 피처를 제거합니다.\n",
    "df_train = df_train.drop(['name', 'ticket', 'body', 'cabin', 'home.dest'], axis=1)\n",
    "df_test = df_test.drop(['name', 'ticket', 'body', 'cabin', 'home.dest'], axis=1)"
   ]
  },
  {
   "cell_type": "markdown",
   "metadata": {},
   "source": [
    "-----"
   ]
  },
  {
   "cell_type": "markdown",
   "metadata": {},
   "source": [
    "### [탐색적 데이터 분석]"
   ]
  },
  {
   "cell_type": "code",
   "execution_count": 9,
   "metadata": {},
   "outputs": [
    {
     "name": "stdout",
     "output_type": "stream",
     "text": [
      "0    563\n",
      "1    353\n",
      "Name: survived, dtype: int64\n"
     ]
    },
    {
     "data": {
      "text/plain": [
       "<AxesSubplot: >"
      ]
     },
     "execution_count": 9,
     "metadata": {},
     "output_type": "execute_result"
    },
    {
     "data": {
      "image/png": "[encoded data removed]",
      "text/plain": [
       "<Figure size 640x480 with 1 Axes>"
      ]
     },
     "metadata": {},
     "output_type": "display_data"
    }
   ],
   "source": [
    "print(df_train['survived'].value_counts())\n",
    "df_train['survived'].value_counts().plot.bar()"
   ]
  },
  {
   "cell_type": "code",
   "execution_count": 27,
   "metadata": {},
   "outputs": [
    {
     "name": "stdout",
     "output_type": "stream",
     "text": [
      "3    498\n",
      "1    230\n",
      "2    188\n",
      "Name: pclass, dtype: int64\n"
     ]
    },
    {
     "data": {
      "image/png": "[encoded data removed]",
      "text/plain": [
       "<Figure size 500x400 with 1 Axes>"
      ]
     },
     "metadata": {},
     "output_type": "display_data"
    }
   ],
   "source": [
    "# survived 피처를 기준으로 그룹을 나누어, 그룹별 pclass 피처의 분포를 살펴봅니다.\n",
    "print(df_train['pclass'].value_counts())\n",
    "ax = sns.countplot(x='pclass', hue = 'survived',  data = df_train)"
   ]
  },
  {
   "cell_type": "code",
   "execution_count": 11,
   "metadata": {},
   "outputs": [],
   "source": [
    "from scipy import stats\n",
    "\n",
    "# 두 집단의 피처를 비교해주며 탐색작업을 자동화하는 함수를 정의합니다.\n",
    "def valid_features(df, col_name, distribution_check=True):\n",
    "    \n",
    "    # 두 집단 (survived=1, survived=0)의 분포 그래프를 출력합니다.\n",
    "    g = sns.FacetGrid(df, col='survived')\n",
    "    g.map(plt.hist, col_name, bins=30)\n",
    "\n",
    "    # 두 집단 (survived=1, survived=0)의 표준편차를 각각 출력합니다.\n",
    "    titanic_survived = df[df['survived']==1]\n",
    "    titanic_survived_static = np.array(titanic_survived[col_name])\n",
    "    print(\"data std is\", '%.2f' % np.std(titanic_survived_static))\n",
    "    titanic_n_survived = df[df['survived']==0]\n",
    "    titanic_n_survived_static = np.array(titanic_n_survived[col_name])\n",
    "    print(\"data std is\", '%.2f' % np.std(titanic_n_survived_static))\n",
    "    \n",
    "     # T-test로 두 집단의 평균 차이를 검정합니다.\n",
    "    tTestResult = stats.ttest_ind(titanic_survived[col_name], titanic_n_survived[col_name])\n",
    "    tTestResultDiffVar = stats.ttest_ind(titanic_survived[col_name], titanic_n_survived[col_name], equal_var=False)\n",
    "    print(\"The t-statistic and p-value assuming equal variances is %.3f and %.3f.\" % tTestResult)\n",
    "    print(\"The t-statistic and p-value not assuming equal variances is %.3f and %.3f\" % tTestResultDiffVar)\n",
    "    \n",
    "    if distribution_check:\n",
    "        # Shapiro-Wilk 검정 : 분포의 정규성 정도를 검증합니다.\n",
    "        print(\"The w-statistic and p-value in Survived %.3f and %.3f\" % stats.shapiro(titanic_survived[col_name]))\n",
    "        print(\"The w-statistic and p-value in Non-Survived %.3f and %.3f\" % stats.shapiro(titanic_n_survived[col_name]))"
   ]
  },
  {
   "cell_type": "code",
   "execution_count": 12,
   "metadata": {},
   "outputs": [
    {
     "name": "stdout",
     "output_type": "stream",
     "text": [
      "data std is 14.22\n",
      "data std is 13.71\n",
      "The t-statistic and p-value assuming equal variances is -0.546 and 0.585.\n",
      "The t-statistic and p-value not assuming equal variances is -0.543 and 0.587\n",
      "The w-statistic and p-value in Survived 0.982 and 0.001\n",
      "The w-statistic and p-value in Non-Survived 0.968 and 0.000\n"
     ]
    },
    {
     "data": {
      "image/png": "[encoded data removed]",
      "text/plain": [
       "<Figure size 600x300 with 2 Axes>"
      ]
     },
     "metadata": {},
     "output_type": "display_data"
    }
   ],
   "source": [
    "# 앞서 정의한 valid_features 함수를 실행합니다. age 피처를 탐색합니다.\n",
    "valid_features(df_train[df_train['age'] > 0], 'age', distribution_check=True)"
   ]
  },
  {
   "cell_type": "code",
   "execution_count": 13,
   "metadata": {},
   "outputs": [
    {
     "name": "stdout",
     "output_type": "stream",
     "text": [
      "data std is 0.64\n",
      "data std is 1.34\n",
      "The t-statistic and p-value assuming equal variances is -2.118 and 0.034.\n",
      "The t-statistic and p-value not assuming equal variances is -2.446 and 0.015\n"
     ]
    },
    {
     "data": {
      "image/png": "[encoded data removed]",
      "text/plain": [
       "<Figure size 600x300 with 2 Axes>"
      ]
     },
     "metadata": {},
     "output_type": "display_data"
    }
   ],
   "source": [
    "# 앞서 정의한 valid_features 함수를 실행합니다. sibsp 피처를 탐색합니다.\n",
    "valid_features(df_train, 'sibsp', distribution_check=False)"
   ]
  },
  {
   "cell_type": "markdown",
   "metadata": {},
   "source": [
    "-----"
   ]
  },
  {
   "cell_type": "markdown",
   "metadata": {},
   "source": [
    "### `[미니 퀴즈 - 4.1]`\n",
    "- `parch, fare, sex, embarked 피처에 대해 (생존자/비생존자) 간의 차이를 탐색해 보세요.` \n",
    "    - 위에서와 동일한 방법를 이용하여 생존자와 비생존자 그룹간의 평균과 분포가 어떻게 다른지, 혹은 통계적 유의성이 얼마나 있는지 대해 살펴보도록 합시다.\n",
    "        - sex : 남/여에서 생존자와 비생존자간의 비율이 크게 다른것을 확인할 수 있습니다.\n",
    "        - embarked : 3개의 승선항에 따라 생존자와 비생존자간의 비율이 부분적으로 다른것을 확인할 수 있습니다.\n",
    "        - parch : 편차에 약간 차이가 있고, t-test 결과 두 집단의 평균에도 약간의 차이가 있다는 것을 알 수 있습니다.\n",
    "        - fare : 편차에 많은 차이가 있고, t-test 결과 두 집단의 평균은 다르다고 확신할 수 있습니다."
   ]
  },
  {
   "cell_type": "code",
   "execution_count": 14,
   "metadata": {},
   "outputs": [
    {
     "data": {
      "image/png": "[encoded data removed]",
      "text/plain": [
       "<Figure size 640x480 with 1 Axes>"
      ]
     },
     "metadata": {},
     "output_type": "display_data"
    }
   ],
   "source": [
    "ax = sns.countplot(x='sex', hue = 'survived',  data = df_train)"
   ]
  },
  {
   "cell_type": "code",
   "execution_count": 15,
   "metadata": {},
   "outputs": [
    {
     "data": {
      "image/png": "[encoded data removed]",
      "text/plain": [
       "<Figure size 640x480 with 1 Axes>"
      ]
     },
     "metadata": {},
     "output_type": "display_data"
    }
   ],
   "source": [
    "ax = sns.countplot(x='embarked', hue = 'survived',  data = df_train)"
   ]
  },
  {
   "cell_type": "code",
   "execution_count": 16,
   "metadata": {},
   "outputs": [
    {
     "name": "stdout",
     "output_type": "stream",
     "text": [
      "data std is 0.74\n",
      "data std is 0.89\n",
      "The t-statistic and p-value assuming equal variances is 1.865 and 0.063.\n",
      "The t-statistic and p-value not assuming equal variances is 1.942 and 0.052\n"
     ]
    },
    {
     "data": {
      "image/png": "[encoded data removed]",
      "text/plain": [
       "<Figure size 600x300 with 2 Axes>"
      ]
     },
     "metadata": {},
     "output_type": "display_data"
    }
   ],
   "source": [
    "valid_features(df_train, 'parch', distribution_check=False)"
   ]
  },
  {
   "cell_type": "code",
   "execution_count": 17,
   "metadata": {},
   "outputs": [
    {
     "name": "stdout",
     "output_type": "stream",
     "text": [
      "data std is 60.68\n",
      "data std is 33.65\n",
      "The t-statistic and p-value assuming equal variances is 7.523 and 0.000.\n",
      "The t-statistic and p-value not assuming equal variances is 6.657 and 0.000\n"
     ]
    },
    {
     "data": {
      "image/png": "[encoded data removed]",
      "text/plain": [
       "<Figure size 600x300 with 2 Axes>"
      ]
     },
     "metadata": {},
     "output_type": "display_data"
    }
   ],
   "source": [
    "valid_features(df_train, 'fare', distribution_check=False)"
   ]
  },
  {
   "cell_type": "markdown",
   "metadata": {},
   "source": [
    "-----"
   ]
  },
  {
   "cell_type": "markdown",
   "metadata": {},
   "source": [
    "# <Step2. 분류> : 생존자 분류 모델 만들기"
   ]
  },
  {
   "cell_type": "markdown",
   "metadata": {},
   "source": [
    "### [분류 모델을 위한 전처리]"
   ]
  },
  {
   "cell_type": "code",
   "execution_count": 18,
   "metadata": {},
   "outputs": [
    {
     "data": {
      "text/html": [
       "<div>\n",
       "<style scoped>\n",
       "    .dataframe tbody tr th:only-of-type {\n",
       "        vertical-align: middle;\n",
       "    }\n",
       "\n",
       "    .dataframe tbody tr th {\n",
       "        vertical-align: top;\n",
       "    }\n",
       "\n",
       "    .dataframe thead th {\n",
       "        text-align: right;\n",
       "    }\n",
       "</style>\n",
       "<table border=\"1\" class=\"dataframe\">\n",
       "  <thead>\n",
       "    <tr style=\"text-align: right;\">\n",
       "      <th></th>\n",
       "      <th>pclass</th>\n",
       "      <th>survived</th>\n",
       "      <th>age</th>\n",
       "      <th>sibsp</th>\n",
       "      <th>parch</th>\n",
       "      <th>fare</th>\n",
       "      <th>sex_female</th>\n",
       "      <th>sex_male</th>\n",
       "      <th>embarked_C</th>\n",
       "      <th>embarked_Q</th>\n",
       "      <th>embarked_S</th>\n",
       "    </tr>\n",
       "  </thead>\n",
       "  <tbody>\n",
       "    <tr>\n",
       "      <th>0</th>\n",
       "      <td>2</td>\n",
       "      <td>1</td>\n",
       "      <td>13.000000</td>\n",
       "      <td>0</td>\n",
       "      <td>1</td>\n",
       "      <td>19.5000</td>\n",
       "      <td>1</td>\n",
       "      <td>0</td>\n",
       "      <td>0</td>\n",
       "      <td>0</td>\n",
       "      <td>1</td>\n",
       "    </tr>\n",
       "    <tr>\n",
       "      <th>1</th>\n",
       "      <td>2</td>\n",
       "      <td>1</td>\n",
       "      <td>4.000000</td>\n",
       "      <td>1</td>\n",
       "      <td>1</td>\n",
       "      <td>23.0000</td>\n",
       "      <td>1</td>\n",
       "      <td>0</td>\n",
       "      <td>0</td>\n",
       "      <td>0</td>\n",
       "      <td>1</td>\n",
       "    </tr>\n",
       "    <tr>\n",
       "      <th>2</th>\n",
       "      <td>2</td>\n",
       "      <td>1</td>\n",
       "      <td>30.000000</td>\n",
       "      <td>1</td>\n",
       "      <td>0</td>\n",
       "      <td>13.8583</td>\n",
       "      <td>1</td>\n",
       "      <td>0</td>\n",
       "      <td>1</td>\n",
       "      <td>0</td>\n",
       "      <td>0</td>\n",
       "    </tr>\n",
       "    <tr>\n",
       "      <th>3</th>\n",
       "      <td>3</td>\n",
       "      <td>0</td>\n",
       "      <td>30.231444</td>\n",
       "      <td>0</td>\n",
       "      <td>0</td>\n",
       "      <td>7.7250</td>\n",
       "      <td>0</td>\n",
       "      <td>1</td>\n",
       "      <td>0</td>\n",
       "      <td>1</td>\n",
       "      <td>0</td>\n",
       "    </tr>\n",
       "    <tr>\n",
       "      <th>4</th>\n",
       "      <td>3</td>\n",
       "      <td>1</td>\n",
       "      <td>22.000000</td>\n",
       "      <td>0</td>\n",
       "      <td>0</td>\n",
       "      <td>7.7250</td>\n",
       "      <td>1</td>\n",
       "      <td>0</td>\n",
       "      <td>0</td>\n",
       "      <td>1</td>\n",
       "      <td>0</td>\n",
       "    </tr>\n",
       "  </tbody>\n",
       "</table>\n",
       "</div>"
      ],
      "text/plain": [
       "   pclass  survived        age  sibsp  parch     fare  sex_female  sex_male  \\\n",
       "0       2         1  13.000000      0      1  19.5000           1         0   \n",
       "1       2         1   4.000000      1      1  23.0000           1         0   \n",
       "2       2         1  30.000000      1      0  13.8583           1         0   \n",
       "3       3         0  30.231444      0      0   7.7250           0         1   \n",
       "4       3         1  22.000000      0      0   7.7250           1         0   \n",
       "\n",
       "   embarked_C  embarked_Q  embarked_S  \n",
       "0           0           0           1  \n",
       "1           0           0           1  \n",
       "2           1           0           0  \n",
       "3           0           1           0  \n",
       "4           0           1           0  "
      ]
     },
     "execution_count": 18,
     "metadata": {},
     "output_type": "execute_result"
    }
   ],
   "source": [
    "# age의 결측값을 평균값으로 대체합니다.\n",
    "replace_mean = df_train[df_train['age'] > 0]['age'].mean()\n",
    "df_train['age'] = df_train['age'].fillna(replace_mean)\n",
    "df_test['age'] = df_test['age'].fillna(replace_mean)\n",
    "\n",
    "# embark : 2개의 결측값을 최빈값으로 대체합니다.\n",
    "embarked_mode = df_train['embarked'].value_counts().index[0]\n",
    "df_train['embarked'] = df_train['embarked'].fillna(embarked_mode)\n",
    "df_test['embarked'] = df_test['embarked'].fillna(embarked_mode)\n",
    "\n",
    "# one-hot encoding을 위한 통합 데이터 프레임(whole_df)을 생성합니다.\n",
    "whole_df = df_train.append(df_test)\n",
    "train_idx_num = len(df_train)\n",
    "\n",
    "# pandas 패키지를 이용한 one-hot 인코딩을 수행합니다.\n",
    "whole_df_encoded = pd.get_dummies(whole_df)\n",
    "df_train = whole_df_encoded[:train_idx_num]\n",
    "df_test = whole_df_encoded[train_idx_num:]\n",
    "\n",
    "df_train.head()"
   ]
  },
  {
   "cell_type": "code",
   "execution_count": 19,
   "metadata": {},
   "outputs": [],
   "source": [
    "# 데이터를 학습 데이터셋, 테스트 데이터셋으로 분리합니다.\n",
    "x_train, y_train = df_train.loc[:, df_train.columns != 'survived'].values, df_train['survived'].values\n",
    "x_test, y_test = df_test.loc[:, df_test.columns != 'survived'].values, df_test['survived'].values"
   ]
  },
  {
   "cell_type": "markdown",
   "metadata": {},
   "source": [
    "-----"
   ]
  },
  {
   "cell_type": "markdown",
   "metadata": {},
   "source": [
    "### [분류 모델링]"
   ]
  },
  {
   "cell_type": "markdown",
   "metadata": {},
   "source": [
    "##### Logistic Regression"
   ]
  },
  {
   "cell_type": "code",
   "execution_count": 20,
   "metadata": {},
   "outputs": [],
   "source": [
    "from sklearn.linear_model import LogisticRegression\n",
    "from sklearn.metrics import accuracy_score, precision_score, recall_score, f1_score\n",
    "\n",
    "# 로지스틱 회귀 모델을 학습합니다.\n",
    "lr = LogisticRegression(random_state=0)\n",
    "lr.fit(x_train, y_train)\n",
    "\n",
    "# 학습한 모델의 테스트 데이터셋에 대한 예측 결과를 반환합니다.\n",
    "y_pred = lr.predict(x_test)\n",
    "y_pred_probability = lr.predict_proba(x_test)[:,1]"
   ]
  },
  {
   "cell_type": "markdown",
   "metadata": {},
   "source": [
    "##### 분류 모델 평가"
   ]
  },
  {
   "cell_type": "code",
   "execution_count": 21,
   "metadata": {},
   "outputs": [
    {
     "name": "stdout",
     "output_type": "stream",
     "text": [
      "accuracy: 0.80\n",
      "Precision : 0.756\n",
      "Recall : 0.673\n",
      "F1 : 0.712\n"
     ]
    }
   ],
   "source": [
    "# 테스트 데이터셋에 대한 accuracy, precision, recall, f1 평가 지표를 각각 출력합니다.\n",
    "print(\"accuracy: %.2f\" % accuracy_score(y_test, y_pred))\n",
    "print(\"Precision : %.3f\" % precision_score(y_test, y_pred))\n",
    "print(\"Recall : %.3f\" % recall_score(y_test, y_pred))\n",
    "print(\"F1 : %.3f\" % f1_score(y_test, y_pred))"
   ]
  },
  {
   "cell_type": "markdown",
   "metadata": {},
   "source": [
    "-----"
   ]
  },
  {
   "cell_type": "markdown",
   "metadata": {},
   "source": [
    "##### 분류 모델의 여러가지 평가 방법들\n",
    "- Confusion Matrix 기반\n",
    "    - Accuracy\n",
    "    - Precision\n",
    "    - Recall\n",
    "    - F1 score\n",
    "    - AUC (Area Under the Curve) & ROC (Receiver Operating Characteristic) curve"
   ]
  },
  {
   "cell_type": "code",
   "execution_count": 22,
   "metadata": {},
   "outputs": [
    {
     "name": "stdout",
     "output_type": "stream",
     "text": [
      "[[214  32]\n",
      " [ 48  99]]\n"
     ]
    }
   ],
   "source": [
    "from sklearn.metrics import confusion_matrix\n",
    "\n",
    "# Confusion Matrix를 출력합니다.\n",
    "confmat = confusion_matrix(y_true=y_test, y_pred=y_pred)\n",
    "print(confmat)"
   ]
  },
  {
   "cell_type": "markdown",
   "metadata": {},
   "source": [
    "-----"
   ]
  },
  {
   "cell_type": "markdown",
   "metadata": {},
   "source": [
    "##### Logistic Regression model AUC"
   ]
  },
  {
   "cell_type": "code",
   "execution_count": 23,
   "metadata": {},
   "outputs": [
    {
     "name": "stdout",
     "output_type": "stream",
     "text": [
      "AUC : 0.838\n"
     ]
    },
    {
     "data": {
      "text/plain": [
       "<matplotlib.legend.Legend at 0x234b1fbbb80>"
      ]
     },
     "execution_count": 23,
     "metadata": {},
     "output_type": "execute_result"
    },
    {
     "data": {
      "image/png": "[encoded data removed]",
      "text/plain": [
       "<Figure size 500x400 with 1 Axes>"
      ]
     },
     "metadata": {},
     "output_type": "display_data"
    }
   ],
   "source": [
    "from sklearn.metrics import roc_curve, roc_auc_score\n",
    "\n",
    "# AUC (Area Under the Curve)를 계산하여 출력합니다.\n",
    "false_positive_rate, true_positive_rate, thresholds = roc_curve(y_test, y_pred_probability)\n",
    "roc_auc = roc_auc_score(y_test, y_pred_probability)\n",
    "print(\"AUC : %.3f\" % roc_auc)\n",
    "\n",
    "# ROC curve를 그래프로 출력합니다.\n",
    "plt.rcParams['figure.figsize'] = [5, 4]\n",
    "plt.plot(false_positive_rate, true_positive_rate, label='ROC curve (area = %0.3f)' % roc_auc, \n",
    "         color='red', linewidth=4.0)\n",
    "plt.plot([0, 1], [0, 1], 'k--')\n",
    "plt.xlim([0.0, 1.0])\n",
    "plt.ylim([0.0, 1.0])\n",
    "plt.xlabel('False Positive Rate')\n",
    "plt.ylabel('True Positive Rate')\n",
    "plt.title('ROC curve of Logistic regression')\n",
    "plt.legend(loc=\"lower right\")"
   ]
  },
  {
   "cell_type": "markdown",
   "metadata": {},
   "source": [
    "-----"
   ]
  },
  {
   "cell_type": "markdown",
   "metadata": {},
   "source": [
    "##### Decision Tree"
   ]
  },
  {
   "cell_type": "code",
   "execution_count": 24,
   "metadata": {},
   "outputs": [
    {
     "name": "stdout",
     "output_type": "stream",
     "text": [
      "accuracy: 0.75\n",
      "Precision : 0.687\n",
      "Recall : 0.626\n",
      "F1 : 0.655\n"
     ]
    }
   ],
   "source": [
    "from sklearn.tree import DecisionTreeClassifier\n",
    "\n",
    "# 의사결정나무를 학습하고, 학습한 모델로 테스트 데이터셋에 대한 예측값을 반환합니다.\n",
    "dtc = DecisionTreeClassifier()\n",
    "dtc.fit(x_train, y_train)\n",
    "y_pred = dtc.predict(x_test)\n",
    "y_pred_probability = dtc.predict_proba(x_test)[:,1]\n",
    "\n",
    "# 학습한 모델의 성능을 계산하여 출력합니다.\n",
    "print(\"accuracy: %.2f\" % accuracy_score(y_test, y_pred))\n",
    "print(\"Precision : %.3f\" % precision_score(y_test, y_pred))\n",
    "print(\"Recall : %.3f\" % recall_score(y_test, y_pred))\n",
    "print(\"F1 : %.3f\" % f1_score(y_test, y_pred))"
   ]
  },
  {
   "cell_type": "code",
   "execution_count": 25,
   "metadata": {},
   "outputs": [
    {
     "name": "stdout",
     "output_type": "stream",
     "text": [
      "AUC : 0.735\n"
     ]
    },
    {
     "data": {
      "text/plain": [
       "<matplotlib.legend.Legend at 0x234b1f1a770>"
      ]
     },
     "execution_count": 25,
     "metadata": {},
     "output_type": "execute_result"
    },
    {
     "data": {
      "image/png": "[encoded data removed]",
      "text/plain": [
       "<Figure size 500x400 with 1 Axes>"
      ]
     },
     "metadata": {},
     "output_type": "display_data"
    }
   ],
   "source": [
    "# 학습한 모델의 AUC를 계산하여 출력합니다.\n",
    "false_positive_rate, true_positive_rate, thresholds = roc_curve(y_test, y_pred_probability)\n",
    "roc_auc = roc_auc_score(y_test, y_pred_probability)\n",
    "print(\"AUC : %.3f\" % roc_auc)\n",
    "\n",
    "# ROC curve를 그래프로 출력합니다.\n",
    "plt.rcParams['figure.figsize'] = [5, 4]\n",
    "plt.plot(false_positive_rate, true_positive_rate, label='ROC curve (area = %0.3f)' % roc_auc, \n",
    "         color='red', linewidth=4.0)\n",
    "plt.plot([0, 1], [0, 1], 'k--')\n",
    "plt.xlim([0.0, 1.0])\n",
    "plt.ylim([0.0, 1.0])\n",
    "plt.xlabel('False Positive Rate')\n",
    "plt.ylabel('True Positive Rate')\n",
    "plt.title('ROC curve of Logistic regression')\n",
    "plt.legend(loc=\"lower right\")"
   ]
  },
  {
   "cell_type": "markdown",
   "metadata": {},
   "source": [
    "-----"
   ]
  },
  {
   "cell_type": "markdown",
   "metadata": {},
   "source": [
    "# <Step3. 모델 개선> : 피처 엔지니어링 첫걸음"
   ]
  },
  {
   "cell_type": "markdown",
   "metadata": {},
   "source": [
    "### [피처에서 새로운 의미 추출해내기]"
   ]
  },
  {
   "cell_type": "code",
   "execution_count": 28,
   "metadata": {},
   "outputs": [],
   "source": [
    "# 데이터를 다시 불러옵니다.\n",
    "df_train = pd.read_csv(\"../python-data-analysis-master/data/titanic_train.csv\")\n",
    "df_test = pd.read_csv(\"../python-data-analysis-master/data/titanic_test.csv\")\n",
    "df_train = df_train.drop(['ticket', 'body', 'home.dest'], axis=1)\n",
    "df_test = df_test.drop(['ticket', 'body', 'home.dest'], axis=1)\n",
    "\n",
    "# age의 결측값을 평균값으로 대체합니다.\n",
    "replace_mean = df_train[df_train['age'] > 0]['age'].mean()\n",
    "df_train['age'] = df_train['age'].fillna(replace_mean)\n",
    "df_test['age'] = df_test['age'].fillna(replace_mean)\n",
    "\n",
    "# embark : 2개의 결측값을 최빈값으로 대체합니다.\n",
    "embarked_mode = df_train['embarked'].value_counts().index[0]\n",
    "df_train['embarked'] = df_train['embarked'].fillna(embarked_mode)\n",
    "df_test['embarked'] = df_test['embarked'].fillna(embarked_mode)\n",
    "\n",
    "# one-hot encoding을 위한 통합 데이터 프레임(whole_df)을 생성합니다.\n",
    "whole_df = df_train.append(df_test)\n",
    "train_idx_num = len(df_train)"
   ]
  },
  {
   "cell_type": "markdown",
   "metadata": {},
   "source": [
    "##### cabin 피처 활용하기"
   ]
  },
  {
   "cell_type": "code",
   "execution_count": null,
   "metadata": {},
   "outputs": [
    {
     "name": "stdout",
     "output_type": "stream",
     "text": [
      "C23 C25 C27        6\n",
      "B57 B59 B63 B66    5\n",
      "G6                 5\n",
      "F33                4\n",
      "D                  4\n",
      "F4                 4\n",
      "F2                 4\n",
      "C22 C26            4\n",
      "C78                4\n",
      "B96 B98            4\n",
      "Name: cabin, dtype: int64\n"
     ]
    }
   ],
   "source": [
    "print(whole_df['cabin'].value_counts()[:10])"
   ]
  },
  {
   "cell_type": "code",
   "execution_count": null,
   "metadata": {},
   "outputs": [
    {
     "data": {
      "image/png": "[encoded data removed]",
      "text/plain": [
       "<Figure size 360x288 with 1 Axes>"
      ]
     },
     "metadata": {},
     "output_type": "display_data"
    }
   ],
   "source": [
    "# 결측 데이터의 경우는 ‘X’로 대체합니다.\n",
    "whole_df['cabin'] = whole_df['cabin'].fillna('X')\n",
    "\n",
    "# cabin 피처의 첫 번째 문자를 추출합니다.\n",
    "whole_df['cabin'] = whole_df['cabin'].apply(lambda x: x[0])\n",
    "\n",
    "# 추출한 문자 중, G와 T는 수가 너무 작기 때문에, 마찬가지로 ‘X’로 대체합니다.\n",
    "whole_df['cabin'] = whole_df['cabin'].replace({\"G\":\"X\", \"T\":\"X\"})\n",
    "\n",
    "ax = sns.countplot(x='cabin', hue = 'survived',  data = whole_df)\n",
    "plt.show()"
   ]
  },
  {
   "cell_type": "markdown",
   "metadata": {},
   "source": [
    "-----"
   ]
  },
  {
   "cell_type": "markdown",
   "metadata": {},
   "source": [
    "##### name 피처 활용하기"
   ]
  },
  {
   "cell_type": "code",
   "execution_count": null,
   "metadata": {},
   "outputs": [
    {
     "name": "stdout",
     "output_type": "stream",
     "text": [
      "['Miss', 'Mr', 'Master', 'Mrs', 'Dr', 'Mlle', 'Col', 'Rev', 'Ms', 'Mme', 'Sir', 'the Countess', 'Dona', 'Jonkheer', 'Lady', 'Major', 'Don', 'Capt']\n"
     ]
    }
   ],
   "source": [
    "# 이름에서 호칭을 추출합니다.\n",
    "name_grade = whole_df['name'].apply(lambda x : x.split(\", \",1)[1].split(\".\")[0])\n",
    "name_grade = name_grade.unique().tolist()\n",
    "print(name_grade)"
   ]
  },
  {
   "cell_type": "code",
   "execution_count": null,
   "metadata": {},
   "outputs": [
    {
     "name": "stdout",
     "output_type": "stream",
     "text": [
      "D    758\n",
      "F    263\n",
      "B    201\n",
      "E     61\n",
      "A     24\n",
      "C      2\n",
      "Name: name, dtype: int64\n"
     ]
    }
   ],
   "source": [
    "# 호칭에 따라 사회적 지위(1910년대 기준)를 정의합니다.\n",
    "grade_dict = {'A': ['Rev', 'Col', 'Major', 'Dr', 'Capt', 'Sir'], # 명예직을 나타냅니다.\n",
    "              'B': ['Ms', 'Mme', 'Mrs', 'Dona'], # 여성을 나타냅니다.\n",
    "              'C': ['Jonkheer', 'the Countess'], # 귀족이나 작위를 나타냅니다.\n",
    "              'D': ['Mr', 'Don'], # 남성을 나타냅니다.\n",
    "              'E': ['Master'], # 젊은남성을 나타냅니다.\n",
    "              'F': ['Miss', 'Mlle', 'Lady']} # 젊은 여성을 나타냅니다.\n",
    "\n",
    "# 정의한 호칭의 기준에 따라, A~F의 문자로 name 피처를 다시 정의하는 함수입니다.\n",
    "def give_grade(x):\n",
    "    grade = x.split(\", \", 1)[1].split(\".\")[0]\n",
    "    for key, value in grade_dict.items():\n",
    "        for title in value:\n",
    "            if grade == title:\n",
    "                return key\n",
    "    return 'G'\n",
    "    \n",
    "# 위의 함수를 적용하여 name 피처를 새롭게 정의합니다.\n",
    "whole_df['name'] = whole_df['name'].apply(lambda x: give_grade(x))\n",
    "print(whole_df['name'].value_counts())"
   ]
  },
  {
   "cell_type": "markdown",
   "metadata": {},
   "source": [
    "------"
   ]
  },
  {
   "cell_type": "markdown",
   "metadata": {},
   "source": [
    "### `[미니 퀴즈 - 4.2]`\n",
    "- `‘cabin’ 피처와 마찬가지로, ‘name’ 피처에 대해 (생존자/비생존) 그룹 간의 차이를 탐색해 보세요.` \n",
    "    - 위와 동일한 방법을 이용하여 생존자와 비생존자 그룹간의 분포가 어떻게 다른지, 시각적으로 탐색해보도록 합시다.\n",
    "        - 동일한 countplot으로 아래처럼 시각화가 가능합니다.\n",
    "        - 두 그룹간의 '평균'값의 차이를 검정한 t-test와 같이, 두 그룹간의 '분포'의 차이를 검정하는 방법에는 '카이제곱 검정' 이라는 방법이 있습니다.\n",
    "        - 카이제곱 검정의 실행 결과, p-value 0.000으로 두 그룹간의 분포가 통계적으로 유의미하게 다르다는 것을 알 수 있습니다.\n",
    "            - `이에 대한 결과도 아래에 포함하였습니다.`"
   ]
  },
  {
   "cell_type": "code",
   "execution_count": null,
   "metadata": {},
   "outputs": [
    {
     "data": {
      "image/png": "[encoded data removed]",
      "text/plain": [
       "<Figure size 360x288 with 1 Axes>"
      ]
     },
     "metadata": {},
     "output_type": "display_data"
    }
   ],
   "source": [
    "ax = sns.countplot(x='name', hue = 'survived',  data = whole_df)\n",
    "plt.show()"
   ]
  },
  {
   "cell_type": "code",
   "execution_count": null,
   "metadata": {},
   "outputs": [
    {
     "name": "stdout",
     "output_type": "stream",
     "text": [
      "statistic = 341.971, pvalue = 0.000\n"
     ]
    }
   ],
   "source": [
    "from scipy import stats\n",
    "\n",
    "chis = stats.chisquare(whole_df[whole_df['survived']==1]['cabin'].value_counts().sort_index(), \n",
    "                       whole_df[whole_df['survived']==0]['cabin'].value_counts().sort_index())\n",
    "print(\"statistic = %.3f, pvalue = %.3f\" % chis)"
   ]
  },
  {
   "cell_type": "markdown",
   "metadata": {},
   "source": [
    "-----"
   ]
  },
  {
   "cell_type": "markdown",
   "metadata": {},
   "source": [
    "##### one-hot encoding"
   ]
  },
  {
   "cell_type": "code",
   "execution_count": null,
   "metadata": {},
   "outputs": [
    {
     "data": {
      "text/html": [
       "<div>\n",
       "<style scoped>\n",
       "    .dataframe tbody tr th:only-of-type {\n",
       "        vertical-align: middle;\n",
       "    }\n",
       "\n",
       "    .dataframe tbody tr th {\n",
       "        vertical-align: top;\n",
       "    }\n",
       "\n",
       "    .dataframe thead th {\n",
       "        text-align: right;\n",
       "    }\n",
       "</style>\n",
       "<table border=\"1\" class=\"dataframe\">\n",
       "  <thead>\n",
       "    <tr style=\"text-align: right;\">\n",
       "      <th></th>\n",
       "      <th>pclass</th>\n",
       "      <th>survived</th>\n",
       "      <th>age</th>\n",
       "      <th>sibsp</th>\n",
       "      <th>parch</th>\n",
       "      <th>fare</th>\n",
       "      <th>name_A</th>\n",
       "      <th>name_B</th>\n",
       "      <th>name_C</th>\n",
       "      <th>name_D</th>\n",
       "      <th>...</th>\n",
       "      <th>cabin_A</th>\n",
       "      <th>cabin_B</th>\n",
       "      <th>cabin_C</th>\n",
       "      <th>cabin_D</th>\n",
       "      <th>cabin_E</th>\n",
       "      <th>cabin_F</th>\n",
       "      <th>cabin_X</th>\n",
       "      <th>embarked_C</th>\n",
       "      <th>embarked_Q</th>\n",
       "      <th>embarked_S</th>\n",
       "    </tr>\n",
       "  </thead>\n",
       "  <tbody>\n",
       "    <tr>\n",
       "      <th>0</th>\n",
       "      <td>2</td>\n",
       "      <td>1</td>\n",
       "      <td>13.000000</td>\n",
       "      <td>0</td>\n",
       "      <td>1</td>\n",
       "      <td>19.5000</td>\n",
       "      <td>0</td>\n",
       "      <td>0</td>\n",
       "      <td>0</td>\n",
       "      <td>0</td>\n",
       "      <td>...</td>\n",
       "      <td>0</td>\n",
       "      <td>0</td>\n",
       "      <td>0</td>\n",
       "      <td>0</td>\n",
       "      <td>0</td>\n",
       "      <td>0</td>\n",
       "      <td>1</td>\n",
       "      <td>0</td>\n",
       "      <td>0</td>\n",
       "      <td>1</td>\n",
       "    </tr>\n",
       "    <tr>\n",
       "      <th>1</th>\n",
       "      <td>2</td>\n",
       "      <td>1</td>\n",
       "      <td>4.000000</td>\n",
       "      <td>1</td>\n",
       "      <td>1</td>\n",
       "      <td>23.0000</td>\n",
       "      <td>0</td>\n",
       "      <td>0</td>\n",
       "      <td>0</td>\n",
       "      <td>0</td>\n",
       "      <td>...</td>\n",
       "      <td>0</td>\n",
       "      <td>0</td>\n",
       "      <td>0</td>\n",
       "      <td>0</td>\n",
       "      <td>0</td>\n",
       "      <td>0</td>\n",
       "      <td>1</td>\n",
       "      <td>0</td>\n",
       "      <td>0</td>\n",
       "      <td>1</td>\n",
       "    </tr>\n",
       "    <tr>\n",
       "      <th>2</th>\n",
       "      <td>2</td>\n",
       "      <td>1</td>\n",
       "      <td>30.000000</td>\n",
       "      <td>1</td>\n",
       "      <td>0</td>\n",
       "      <td>13.8583</td>\n",
       "      <td>0</td>\n",
       "      <td>0</td>\n",
       "      <td>0</td>\n",
       "      <td>0</td>\n",
       "      <td>...</td>\n",
       "      <td>0</td>\n",
       "      <td>0</td>\n",
       "      <td>0</td>\n",
       "      <td>0</td>\n",
       "      <td>0</td>\n",
       "      <td>0</td>\n",
       "      <td>1</td>\n",
       "      <td>1</td>\n",
       "      <td>0</td>\n",
       "      <td>0</td>\n",
       "    </tr>\n",
       "    <tr>\n",
       "      <th>3</th>\n",
       "      <td>3</td>\n",
       "      <td>0</td>\n",
       "      <td>30.231444</td>\n",
       "      <td>0</td>\n",
       "      <td>0</td>\n",
       "      <td>7.7250</td>\n",
       "      <td>0</td>\n",
       "      <td>0</td>\n",
       "      <td>0</td>\n",
       "      <td>1</td>\n",
       "      <td>...</td>\n",
       "      <td>0</td>\n",
       "      <td>0</td>\n",
       "      <td>0</td>\n",
       "      <td>0</td>\n",
       "      <td>0</td>\n",
       "      <td>0</td>\n",
       "      <td>1</td>\n",
       "      <td>0</td>\n",
       "      <td>1</td>\n",
       "      <td>0</td>\n",
       "    </tr>\n",
       "    <tr>\n",
       "      <th>4</th>\n",
       "      <td>3</td>\n",
       "      <td>1</td>\n",
       "      <td>22.000000</td>\n",
       "      <td>0</td>\n",
       "      <td>0</td>\n",
       "      <td>7.7250</td>\n",
       "      <td>0</td>\n",
       "      <td>0</td>\n",
       "      <td>0</td>\n",
       "      <td>0</td>\n",
       "      <td>...</td>\n",
       "      <td>0</td>\n",
       "      <td>0</td>\n",
       "      <td>0</td>\n",
       "      <td>0</td>\n",
       "      <td>0</td>\n",
       "      <td>0</td>\n",
       "      <td>1</td>\n",
       "      <td>0</td>\n",
       "      <td>1</td>\n",
       "      <td>0</td>\n",
       "    </tr>\n",
       "  </tbody>\n",
       "</table>\n",
       "<p>5 rows × 24 columns</p>\n",
       "</div>"
      ],
      "text/plain": [
       "   pclass  survived        age  sibsp  parch     fare  name_A  name_B  name_C  \\\n",
       "0       2         1  13.000000      0      1  19.5000       0       0       0   \n",
       "1       2         1   4.000000      1      1  23.0000       0       0       0   \n",
       "2       2         1  30.000000      1      0  13.8583       0       0       0   \n",
       "3       3         0  30.231444      0      0   7.7250       0       0       0   \n",
       "4       3         1  22.000000      0      0   7.7250       0       0       0   \n",
       "\n",
       "   name_D  ...  cabin_A  cabin_B  cabin_C  cabin_D  cabin_E  cabin_F  cabin_X  \\\n",
       "0       0  ...        0        0        0        0        0        0        1   \n",
       "1       0  ...        0        0        0        0        0        0        1   \n",
       "2       0  ...        0        0        0        0        0        0        1   \n",
       "3       1  ...        0        0        0        0        0        0        1   \n",
       "4       0  ...        0        0        0        0        0        0        1   \n",
       "\n",
       "   embarked_C  embarked_Q  embarked_S  \n",
       "0           0           0           1  \n",
       "1           0           0           1  \n",
       "2           1           0           0  \n",
       "3           0           1           0  \n",
       "4           0           1           0  \n",
       "\n",
       "[5 rows x 24 columns]"
      ]
     },
     "metadata": {},
     "output_type": "display_data"
    }
   ],
   "source": [
    "# pandas 패키지를 이용한 one-hot 인코딩을 수행합니다.\n",
    "whole_df_encoded = pd.get_dummies(whole_df)\n",
    "df_train = whole_df_encoded[:train_idx_num]\n",
    "df_test = whole_df_encoded[train_idx_num:]\n",
    "df_train.head()"
   ]
  },
  {
   "cell_type": "markdown",
   "metadata": {},
   "source": [
    "-----"
   ]
  },
  {
   "cell_type": "markdown",
   "metadata": {},
   "source": [
    "##### 피처 엔지니어링이 완료된 데이터셋 학습"
   ]
  },
  {
   "cell_type": "code",
   "execution_count": null,
   "metadata": {},
   "outputs": [
    {
     "name": "stdout",
     "output_type": "stream",
     "text": [
      "accuracy: 0.79\n",
      "Precision : 0.736\n",
      "Recall : 0.701\n",
      "F1 : 0.718\n",
      "AUC : 0.853\n"
     ]
    },
    {
     "data": {
      "text/plain": [
       "<matplotlib.legend.Legend at 0x7f8d00986fa0>"
      ]
     },
     "metadata": {},
     "output_type": "display_data"
    },
    {
     "data": {
      "image/png": "[encoded data removed]",
      "text/plain": [
       "<Figure size 360x288 with 1 Axes>"
      ]
     },
     "metadata": {},
     "output_type": "display_data"
    }
   ],
   "source": [
    "# 데이터를 학습 데이터셋, 테스트 데이터셋으로 분리합니다.\n",
    "x_train, y_train = df_train.loc[:, df_train.columns != 'survived'].values, df_train['survived'].values\n",
    "x_test, y_test = df_test.loc[:, df_test.columns != 'survived'].values, df_test['survived'].values\n",
    "\n",
    "# 로지스틱 회귀 모델을 학습합니다.\n",
    "lr = LogisticRegression(random_state=0)\n",
    "lr.fit(x_train, y_train)\n",
    "\n",
    "# 학습한 모델의 테스트 데이터셋에 대한 예측 결과를 반환합니다.\n",
    "y_pred = lr.predict(x_test)\n",
    "y_pred_probability = lr.predict_proba(x_test)[:,1]\n",
    "\n",
    "# 테스트 데이터셋에 대한 accuracy, precision, recall, f1 평가 지표를 각각 출력합니다.\n",
    "print(\"accuracy: %.2f\" % accuracy_score(y_test, y_pred))\n",
    "print(\"Precision : %.3f\" % precision_score(y_test, y_pred))\n",
    "print(\"Recall : %.3f\" % recall_score(y_test, y_pred))\n",
    "print(\"F1 : %.3f\" % f1_score(y_test, y_pred)) # AUC (Area Under the Curve) & ROC curve\n",
    "\n",
    "# AUC (Area Under the Curve)를 계산하여 출력합니다.\n",
    "false_positive_rate, true_positive_rate, thresholds = roc_curve(y_test, y_pred_probability)\n",
    "roc_auc = roc_auc_score(y_test, y_pred_probability)\n",
    "print(\"AUC : %.3f\" % roc_auc)\n",
    "\n",
    "# ROC curve를 그래프로 출력합니다.\n",
    "plt.rcParams['figure.figsize'] = [5, 4]\n",
    "plt.plot(false_positive_rate, true_positive_rate, label='ROC curve (area = %0.3f)' % roc_auc, \n",
    "         color='red', linewidth=4.0)\n",
    "plt.plot([0, 1], [0, 1], 'k--')\n",
    "plt.xlim([0.0, 1.0])\n",
    "plt.ylim([0.0, 1.0])\n",
    "plt.xlabel('False Positive Rate')\n",
    "plt.ylabel('True Positive Rate')\n",
    "plt.title('ROC curve of Logistic regression')\n",
    "plt.legend(loc=\"lower right\")"
   ]
  },
  {
   "cell_type": "markdown",
   "metadata": {},
   "source": [
    "-----"
   ]
  },
  {
   "cell_type": "markdown",
   "metadata": {},
   "source": [
    "### [피처 영향력 살펴보기]"
   ]
  },
  {
   "cell_type": "code",
   "execution_count": null,
   "metadata": {},
   "outputs": [
    {
     "data": {
      "image/png": "[encoded data removed]",
      "text/plain": [
       "<Figure size 360x288 with 1 Axes>"
      ]
     },
     "metadata": {},
     "output_type": "display_data"
    }
   ],
   "source": [
    "# 예측 대상인 survived 피처를 제외한 모든 피처를 리스트로 반환합니다. (그래프의 y축)\n",
    "cols = df_train.columns.tolist()\n",
    "cols.remove('survived')\n",
    "y_pos = np.arange(len(cols))\n",
    "\n",
    "# 각 피처별 회귀 분석 계수를 그래프의 x축으로 하여, 피처 영향력 그래프를 출력합니다.\n",
    "plt.rcParams['figure.figsize'] = [5, 4]\n",
    "fig, ax = plt.subplots()\n",
    "ax.barh(y_pos, lr.coef_[0], align='center', color='green', ecolor='black')\n",
    "ax.set_yticks(y_pos)\n",
    "ax.set_yticklabels(cols)\n",
    "ax.invert_yaxis()\n",
    "ax.set_xlabel('Coef')\n",
    "ax.set_title(\"Each Feature's Coef\")\n",
    "\n",
    "plt.show()"
   ]
  },
  {
   "cell_type": "markdown",
   "metadata": {},
   "source": [
    "-----"
   ]
  },
  {
   "cell_type": "markdown",
   "metadata": {},
   "source": [
    "# <Step4. 평가> : 모델 검증하기"
   ]
  },
  {
   "cell_type": "markdown",
   "metadata": {},
   "source": [
    "### [K-fold 교차 검증 수행하기]"
   ]
  },
  {
   "cell_type": "markdown",
   "metadata": {},
   "source": [
    "- K-fold 교차 검증을 통한 과적합 검증"
   ]
  },
  {
   "cell_type": "code",
   "execution_count": null,
   "metadata": {
    "scrolled": true
   },
   "outputs": [],
   "source": [
    "from sklearn.model_selection import KFold\n",
    "\n",
    "# K-fold 교차 검증의 k를 5로 설정합니다.\n",
    "k = 5\n",
    "cv = KFold(k, shuffle=True, random_state=0)\n",
    "acc_history = []\n",
    "\n",
    "# K-fold를 5번의 분할 학습으로 반복합니다.\n",
    "for i, (train_data_row, test_data_row) in enumerate(cv.split(whole_df_encoded)):\n",
    "\n",
    "    # 5개로 분할된 fold 중 4개를 학습 데이터셋, 1개를 테스트 데이터셋으로 지정합니다. 매 반복시마다, 테스트 데이터셋은 변경됩니다.\n",
    "    df_train = whole_df_encoded.iloc[train_data_row]\n",
    "    df_test = whole_df_encoded.iloc[test_data_row]\n",
    "    \n",
    "    # survived 피처를 y, 나머지 피처들을 x 데이터로 지정합니다.\n",
    "    splited_x_train, splited_y_train = df_train.loc[:, df_train.columns != 'survived'].values, df_train['survived'].values\n",
    "    splited_x_test, splited_y_test = df_test.loc[:, df_test.columns != 'survived'].values, df_test['survived'].values\n",
    "    \n",
    "    # 주어진 데이터로 로지스틱 회귀 모델을 학습합니다.\n",
    "    lr = LogisticRegression(random_state=0)\n",
    "    lr.fit(splited_x_train, splited_y_train)\n",
    "    y_pred = lr.predict(splited_x_test)\n",
    "    \n",
    "    # 테스트 데이터셋의 Accuracy를 계산하여 acc_history에 저장합니다.\n",
    "    splited_acc = accuracy_score(splited_y_test, y_pred)\n",
    "    acc_history.append(splited_acc)"
   ]
  },
  {
   "cell_type": "code",
   "execution_count": null,
   "metadata": {},
   "outputs": [
    {
     "data": {
      "text/plain": [
       "[<matplotlib.lines.Line2D at 0x7f8ce03c1490>]"
      ]
     },
     "metadata": {},
     "output_type": "display_data"
    },
    {
     "data": {
      "image/png": "[encoded data removed]",
      "text/plain": [
       "<Figure size 360x288 with 1 Axes>"
      ]
     },
     "metadata": {},
     "output_type": "display_data"
    }
   ],
   "source": [
    "# acc_history에 저장된 5번의 학습 결과(Accuracy)를 그래프로 출력합니다.\n",
    "plt.xlabel(\"Each K-fold\")\n",
    "plt.ylabel(\"Acc of splited test data\")\n",
    "plt.plot(range(1, k+1), acc_history)"
   ]
  },
  {
   "cell_type": "markdown",
   "metadata": {},
   "source": [
    "-----"
   ]
  },
  {
   "cell_type": "markdown",
   "metadata": {},
   "source": [
    "### [학습 곡선 분석하기]"
   ]
  },
  {
   "cell_type": "markdown",
   "metadata": {},
   "source": [
    "- 아래 코드 실행을 위해, anaconda prompt 혹은 Terminal에서 아래와 같은 패키지를 설치해 줍니다.\n",
    "    - (env_name) $ `pip install scikit-plot`"
   ]
  },
  {
   "cell_type": "code",
   "execution_count": null,
   "metadata": {},
   "outputs": [],
   "source": []
  },
  {
   "cell_type": "code",
   "execution_count": null,
   "metadata": {},
   "outputs": [
    {
     "data": {
      "image/png": "[encoded data removed]",
      "text/plain": [
       "<Figure size 360x288 with 1 Axes>"
      ]
     },
     "metadata": {},
     "output_type": "display_data"
    }
   ],
   "source": [
    "import scikitplot as skplt\n",
    "skplt.estimators.plot_learning_curve(lr, x_train, y_train)\n",
    "plt.show()"
   ]
  },
  {
   "cell_type": "code",
   "execution_count": null,
   "metadata": {},
   "outputs": [],
   "source": []
  }
 ],
 "metadata": {
  "kernelspec": {
   "display_name": "Python 3.10.8 64-bit",
   "language": "python",
   "name": "python3"
  },
  "language_info": {
   "codemirror_mode": {
    "name": "ipython",
    "version": 3
   },
   "file_extension": ".py",
   "mimetype": "text/x-python",
   "name": "python",
   "nbconvert_exporter": "python",
   "pygments_lexer": "ipython3",
   "version": "3.10.8"
  },
  "orig_nbformat": 4,
  "vscode": {
   "interpreter": {
    "hash": "8070abc879b547d648634b66dafec4a57643d094ec5a9be6cb583db0cfff3cb9"
   }
  }
 },
 "nbformat": 4,
 "nbformat_minor": 2
}
